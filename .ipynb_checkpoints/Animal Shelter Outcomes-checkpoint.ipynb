{
 "cells": [
  {
   "cell_type": "markdown",
   "metadata": {},
   "source": [
    "# Udacity Machine Learning Nanodegree Capstone Project\n",
    "\n",
    "## Project Setup"
   ]
  },
  {
   "cell_type": "code",
   "execution_count": 1,
   "metadata": {},
   "outputs": [
    {
     "name": "stdout",
     "output_type": "stream",
     "text": [
      "['train.csv', 'train.csv.gz']\n",
      "['test.csv', 'test.csv.gz']\n"
     ]
    }
   ],
   "source": [
    "#Import relevent packages\n",
    "%matplotlib inline\n",
    "import numpy as np\n",
    "import pandas as pd\n",
    "import matplotlib.pyplot as plt\n",
    "from time import time\n",
    "import os\n",
    "\n",
    "print(os.listdir('./train_data'))\n",
    "print(os.listdir('./test_data'))\n"
   ]
  },
  {
   "cell_type": "markdown",
   "metadata": {},
   "source": [
    "## Data Exploration\n"
   ]
  },
  {
   "cell_type": "code",
   "execution_count": 2,
   "metadata": {
    "scrolled": false
   },
   "outputs": [
    {
     "data": {
      "text/html": [
       "<div>\n",
       "<style scoped>\n",
       "    .dataframe tbody tr th:only-of-type {\n",
       "        vertical-align: middle;\n",
       "    }\n",
       "\n",
       "    .dataframe tbody tr th {\n",
       "        vertical-align: top;\n",
       "    }\n",
       "\n",
       "    .dataframe thead th {\n",
       "        text-align: right;\n",
       "    }\n",
       "</style>\n",
       "<table border=\"1\" class=\"dataframe\">\n",
       "  <thead>\n",
       "    <tr style=\"text-align: right;\">\n",
       "      <th></th>\n",
       "      <th>Name</th>\n",
       "      <th>DateTime</th>\n",
       "      <th>OutcomeType</th>\n",
       "      <th>OutcomeSubtype</th>\n",
       "      <th>AnimalType</th>\n",
       "      <th>SexuponOutcome</th>\n",
       "      <th>AgeuponOutcome</th>\n",
       "      <th>Breed</th>\n",
       "      <th>Color</th>\n",
       "    </tr>\n",
       "    <tr>\n",
       "      <th>AnimalID</th>\n",
       "      <th></th>\n",
       "      <th></th>\n",
       "      <th></th>\n",
       "      <th></th>\n",
       "      <th></th>\n",
       "      <th></th>\n",
       "      <th></th>\n",
       "      <th></th>\n",
       "      <th></th>\n",
       "    </tr>\n",
       "  </thead>\n",
       "  <tbody>\n",
       "    <tr>\n",
       "      <th>A671945</th>\n",
       "      <td>Hambone</td>\n",
       "      <td>2014-02-12 18:22:00</td>\n",
       "      <td>Return_to_owner</td>\n",
       "      <td>NaN</td>\n",
       "      <td>Dog</td>\n",
       "      <td>Neutered Male</td>\n",
       "      <td>1 year</td>\n",
       "      <td>Shetland Sheepdog Mix</td>\n",
       "      <td>Brown/White</td>\n",
       "    </tr>\n",
       "    <tr>\n",
       "      <th>A656520</th>\n",
       "      <td>Emily</td>\n",
       "      <td>2013-10-13 12:44:00</td>\n",
       "      <td>Euthanasia</td>\n",
       "      <td>Suffering</td>\n",
       "      <td>Cat</td>\n",
       "      <td>Spayed Female</td>\n",
       "      <td>1 year</td>\n",
       "      <td>Domestic Shorthair Mix</td>\n",
       "      <td>Cream Tabby</td>\n",
       "    </tr>\n",
       "    <tr>\n",
       "      <th>A686464</th>\n",
       "      <td>Pearce</td>\n",
       "      <td>2015-01-31 12:28:00</td>\n",
       "      <td>Adoption</td>\n",
       "      <td>Foster</td>\n",
       "      <td>Dog</td>\n",
       "      <td>Neutered Male</td>\n",
       "      <td>2 years</td>\n",
       "      <td>Pit Bull Mix</td>\n",
       "      <td>Blue/White</td>\n",
       "    </tr>\n",
       "    <tr>\n",
       "      <th>A683430</th>\n",
       "      <td>NaN</td>\n",
       "      <td>2014-07-11 19:09:00</td>\n",
       "      <td>Transfer</td>\n",
       "      <td>Partner</td>\n",
       "      <td>Cat</td>\n",
       "      <td>Intact Male</td>\n",
       "      <td>3 weeks</td>\n",
       "      <td>Domestic Shorthair Mix</td>\n",
       "      <td>Blue Cream</td>\n",
       "    </tr>\n",
       "    <tr>\n",
       "      <th>A667013</th>\n",
       "      <td>NaN</td>\n",
       "      <td>2013-11-15 12:52:00</td>\n",
       "      <td>Transfer</td>\n",
       "      <td>Partner</td>\n",
       "      <td>Dog</td>\n",
       "      <td>Neutered Male</td>\n",
       "      <td>2 years</td>\n",
       "      <td>Lhasa Apso/Miniature Poodle</td>\n",
       "      <td>Tan</td>\n",
       "    </tr>\n",
       "    <tr>\n",
       "      <th>A677334</th>\n",
       "      <td>Elsa</td>\n",
       "      <td>2014-04-25 13:04:00</td>\n",
       "      <td>Transfer</td>\n",
       "      <td>Partner</td>\n",
       "      <td>Dog</td>\n",
       "      <td>Intact Female</td>\n",
       "      <td>1 month</td>\n",
       "      <td>Cairn Terrier/Chihuahua Shorthair</td>\n",
       "      <td>Black/Tan</td>\n",
       "    </tr>\n",
       "    <tr>\n",
       "      <th>A699218</th>\n",
       "      <td>Jimmy</td>\n",
       "      <td>2015-03-28 13:11:00</td>\n",
       "      <td>Transfer</td>\n",
       "      <td>Partner</td>\n",
       "      <td>Cat</td>\n",
       "      <td>Intact Male</td>\n",
       "      <td>3 weeks</td>\n",
       "      <td>Domestic Shorthair Mix</td>\n",
       "      <td>Blue Tabby</td>\n",
       "    </tr>\n",
       "    <tr>\n",
       "      <th>A701489</th>\n",
       "      <td>NaN</td>\n",
       "      <td>2015-04-30 17:02:00</td>\n",
       "      <td>Transfer</td>\n",
       "      <td>Partner</td>\n",
       "      <td>Cat</td>\n",
       "      <td>Unknown</td>\n",
       "      <td>3 weeks</td>\n",
       "      <td>Domestic Shorthair Mix</td>\n",
       "      <td>Brown Tabby</td>\n",
       "    </tr>\n",
       "    <tr>\n",
       "      <th>A671784</th>\n",
       "      <td>Lucy</td>\n",
       "      <td>2014-02-04 17:17:00</td>\n",
       "      <td>Adoption</td>\n",
       "      <td>NaN</td>\n",
       "      <td>Dog</td>\n",
       "      <td>Spayed Female</td>\n",
       "      <td>5 months</td>\n",
       "      <td>American Pit Bull Terrier Mix</td>\n",
       "      <td>Red/White</td>\n",
       "    </tr>\n",
       "    <tr>\n",
       "      <th>A677747</th>\n",
       "      <td>NaN</td>\n",
       "      <td>2014-05-03 07:48:00</td>\n",
       "      <td>Adoption</td>\n",
       "      <td>Offsite</td>\n",
       "      <td>Dog</td>\n",
       "      <td>Spayed Female</td>\n",
       "      <td>1 year</td>\n",
       "      <td>Cairn Terrier</td>\n",
       "      <td>White</td>\n",
       "    </tr>\n",
       "  </tbody>\n",
       "</table>\n",
       "</div>"
      ],
      "text/plain": [
       "             Name             DateTime      OutcomeType OutcomeSubtype  \\\n",
       "AnimalID                                                                 \n",
       "A671945   Hambone  2014-02-12 18:22:00  Return_to_owner            NaN   \n",
       "A656520     Emily  2013-10-13 12:44:00       Euthanasia      Suffering   \n",
       "A686464    Pearce  2015-01-31 12:28:00         Adoption         Foster   \n",
       "A683430       NaN  2014-07-11 19:09:00         Transfer        Partner   \n",
       "A667013       NaN  2013-11-15 12:52:00         Transfer        Partner   \n",
       "A677334      Elsa  2014-04-25 13:04:00         Transfer        Partner   \n",
       "A699218     Jimmy  2015-03-28 13:11:00         Transfer        Partner   \n",
       "A701489       NaN  2015-04-30 17:02:00         Transfer        Partner   \n",
       "A671784      Lucy  2014-02-04 17:17:00         Adoption            NaN   \n",
       "A677747       NaN  2014-05-03 07:48:00         Adoption        Offsite   \n",
       "\n",
       "         AnimalType SexuponOutcome AgeuponOutcome  \\\n",
       "AnimalID                                            \n",
       "A671945         Dog  Neutered Male         1 year   \n",
       "A656520         Cat  Spayed Female         1 year   \n",
       "A686464         Dog  Neutered Male        2 years   \n",
       "A683430         Cat    Intact Male        3 weeks   \n",
       "A667013         Dog  Neutered Male        2 years   \n",
       "A677334         Dog  Intact Female        1 month   \n",
       "A699218         Cat    Intact Male        3 weeks   \n",
       "A701489         Cat        Unknown        3 weeks   \n",
       "A671784         Dog  Spayed Female       5 months   \n",
       "A677747         Dog  Spayed Female         1 year   \n",
       "\n",
       "                                      Breed        Color  \n",
       "AnimalID                                                  \n",
       "A671945               Shetland Sheepdog Mix  Brown/White  \n",
       "A656520              Domestic Shorthair Mix  Cream Tabby  \n",
       "A686464                        Pit Bull Mix   Blue/White  \n",
       "A683430              Domestic Shorthair Mix   Blue Cream  \n",
       "A667013         Lhasa Apso/Miniature Poodle          Tan  \n",
       "A677334   Cairn Terrier/Chihuahua Shorthair    Black/Tan  \n",
       "A699218              Domestic Shorthair Mix   Blue Tabby  \n",
       "A701489              Domestic Shorthair Mix  Brown Tabby  \n",
       "A671784       American Pit Bull Terrier Mix    Red/White  \n",
       "A677747                       Cairn Terrier        White  "
      ]
     },
     "execution_count": 2,
     "metadata": {},
     "output_type": "execute_result"
    }
   ],
   "source": [
    "# Load in training data\n",
    "train = pd.read_csv('./train_data/train.csv')\n",
    "train = train.set_index('AnimalID')\n",
    "\n",
    "#Display top 10 datapoints in training data\n",
    "train.head(n=10)"
   ]
  },
  {
   "cell_type": "code",
   "execution_count": 3,
   "metadata": {},
   "outputs": [
    {
     "name": "stdout",
     "output_type": "stream",
     "text": [
      "Number of datapoints: 26729\n"
     ]
    }
   ],
   "source": [
    "no_of_datapoints = train.shape\n",
    "\n",
    "print(\"Number of datapoints: %d\" % no_of_datapoints[0])"
   ]
  },
  {
   "cell_type": "code",
   "execution_count": 4,
   "metadata": {},
   "outputs": [
    {
     "name": "stdout",
     "output_type": "stream",
     "text": [
      "Adoption           10769\n",
      "Transfer            9422\n",
      "Return_to_owner     4786\n",
      "Euthanasia          1555\n",
      "Died                 197\n",
      "Name: OutcomeType, dtype: int64\n"
     ]
    },
    {
     "data": {
      "image/png": "[encoded data removed]",
      "text/plain": [
       "<matplotlib.figure.Figure at 0xf0bcf60>"
      ]
     },
     "metadata": {},
     "output_type": "display_data"
    }
   ],
   "source": [
    "#Outcomes for the entire set\n",
    "outcomes = train['OutcomeType'].value_counts()\n",
    "outcomes.plot(kind='bar')\n",
    "plt.ylabel('Number of Occurances')\n",
    "plt.xlabel('Outcome')\n",
    "print(outcomes)\n"
   ]
  },
  {
   "cell_type": "code",
   "execution_count": 5,
   "metadata": {},
   "outputs": [
    {
     "name": "stdout",
     "output_type": "stream",
     "text": [
      "Cat Outcome Numbers  OutcomeType\n",
      "Transfer           5505\n",
      "Adoption           4272\n",
      "Euthanasia          710\n",
      "Return_to_owner     500\n",
      "Died                147\n",
      "Name: OutcomeType, dtype: int64 \n",
      "\n",
      "Dog Outcome Numbers  OutcomeType\n",
      "Adoption           6497\n",
      "Return_to_owner    4286\n",
      "Transfer           3917\n",
      "Euthanasia          845\n",
      "Died                 50\n",
      "Name: OutcomeType, dtype: int64\n"
     ]
    },
    {
     "data": {
      "image/png": "[encoded data removed]",
      "text/plain": [
       "<matplotlib.figure.Figure at 0xf1953c8>"
      ]
     },
     "metadata": {},
     "output_type": "display_data"
    },
    {
     "data": {
      "image/png": "[encoded data removed]",
      "text/plain": [
       "<matplotlib.figure.Figure at 0xf1a9940>"
      ]
     },
     "metadata": {},
     "output_type": "display_data"
    }
   ],
   "source": [
    "#Attempt to plot outcomes per AnimalType\n",
    "outcome_per_animal_type = train.groupby('AnimalType')['OutcomeType'].value_counts()\n",
    "\n",
    "plt.figure(1)\n",
    "plt.ylabel('Number of Occurances')\n",
    "plt.xlabel('Outcome')\n",
    "outcome_per_animal_type['Cat'].plot(title='Cat Outcome Chart', kind='bar')\n",
    "plt.figure(2)\n",
    "plt.ylabel('Number of Occurances')\n",
    "plt.xlabel('Outcome')\n",
    "outcome_per_animal_type['Dog'].plot(title='Dog Outcome Chart', kind='bar')\n",
    "print(\"Cat Outcome Numbers \", outcome_per_animal_type['Cat'], '\\n')\n",
    "print(\"Dog Outcome Numbers \", outcome_per_animal_type['Dog'])"
   ]
  },
  {
   "cell_type": "code",
   "execution_count": 6,
   "metadata": {},
   "outputs": [
    {
     "name": "stdout",
     "output_type": "stream",
     "text": [
      "Dog    15595\n",
      "Cat    11134\n",
      "Name: AnimalType, dtype: int64\n"
     ]
    },
    {
     "data": {
      "text/plain": [
       "<matplotlib.axes._subplots.AxesSubplot at 0x4c75048>"
      ]
     },
     "execution_count": 6,
     "metadata": {},
     "output_type": "execute_result"
    },
    {
     "data": {
      "image/png": "[encoded data removed]",
      "text/plain": [
       "<matplotlib.figure.Figure at 0xf16b588>"
      ]
     },
     "metadata": {},
     "output_type": "display_data"
    }
   ],
   "source": [
    "print(train.AnimalType.value_counts())\n",
    "train.AnimalType.value_counts().plot(kind='bar')"
   ]
  },
  {
   "cell_type": "code",
   "execution_count": 7,
   "metadata": {},
   "outputs": [
    {
     "name": "stdout",
     "output_type": "stream",
     "text": [
      "(19038, 9)\n",
      "(7691, 9)\n"
     ]
    }
   ],
   "source": [
    "named = train.loc[train.Name.notnull()]\n",
    "unNamed = train.loc[train.Name.isnull()]\n",
    "\n",
    "print(named.shape)\n",
    "print(unNamed.shape)"
   ]
  },
  {
   "cell_type": "code",
   "execution_count": 8,
   "metadata": {},
   "outputs": [
    {
     "name": "stdout",
     "output_type": "stream",
     "text": [
      "Neutered Male    9779\n",
      "Spayed Female    8820\n",
      "Intact Male      3525\n",
      "Intact Female    3511\n",
      "Unknown          1093\n",
      "Name: SexuponOutcome, dtype: int64\n"
     ]
    },
    {
     "data": {
      "text/plain": [
       "<matplotlib.axes._subplots.AxesSubplot at 0xf1a2400>"
      ]
     },
     "execution_count": 8,
     "metadata": {},
     "output_type": "execute_result"
    },
    {
     "data": {
      "image/png": "[encoded data removed]",
      "text/plain": [
       "<matplotlib.figure.Figure at 0x5399d68>"
      ]
     },
     "metadata": {},
     "output_type": "display_data"
    }
   ],
   "source": [
    "print(train.SexuponOutcome.value_counts())\n",
    "train.SexuponOutcome.value_counts().plot(kind='bar')"
   ]
  },
  {
   "cell_type": "code",
   "execution_count": 9,
   "metadata": {},
   "outputs": [
    {
     "name": "stdout",
     "output_type": "stream",
     "text": [
      "84\n",
      "22\n"
     ]
    }
   ],
   "source": [
    "asdf = train.groupby('AnimalType')['Breed'].value_counts()\n",
    "\n",
    "print(asdf['Dog'].nunique())\n",
    "print(asdf['Cat'].nunique())"
   ]
  },
  {
   "cell_type": "code",
   "execution_count": 10,
   "metadata": {},
   "outputs": [
    {
     "name": "stdout",
     "output_type": "stream",
     "text": [
      "73\n",
      "50\n"
     ]
    }
   ],
   "source": [
    "asdf1 = train.groupby('AnimalType')['Color'].value_counts()\n",
    "\n",
    "print(asdf1['Dog'].nunique())\n",
    "print(asdf1['Cat'].nunique())"
   ]
  },
  {
   "cell_type": "code",
   "execution_count": 11,
   "metadata": {
    "scrolled": true
   },
   "outputs": [
    {
     "name": "stdout",
     "output_type": "stream",
     "text": [
      "SexuponOutcome   Intact Female  Intact Male  Neutered Male  Spayed Female  \\\n",
      "OutcomeType                                                                 \n",
      "Adoption                 203.0        158.0         5222.0         5186.0   \n",
      "Died                      56.0         79.0           19.0           18.0   \n",
      "Euthanasia               401.0        477.0          344.0          232.0   \n",
      "Return_to_owner          301.0        477.0         2247.0         1748.0   \n",
      "Transfer                2550.0       2334.0         1947.0         1636.0   \n",
      "\n",
      "SexuponOutcome   Unknown  \n",
      "OutcomeType               \n",
      "Adoption             NaN  \n",
      "Died                25.0  \n",
      "Euthanasia         101.0  \n",
      "Return_to_owner     12.0  \n",
      "Transfer           955.0  \n"
     ]
    },
    {
     "data": {
      "text/plain": [
       "<matplotlib.axes._subplots.AxesSubplot at 0xf2fa860>"
      ]
     },
     "execution_count": 11,
     "metadata": {},
     "output_type": "execute_result"
    },
    {
     "data": {
      "image/png": "[encoded data removed]",
      "text/plain": [
       "<matplotlib.figure.Figure at 0xf1ec438>"
      ]
     },
     "metadata": {},
     "output_type": "display_data"
    }
   ],
   "source": [
    "sexuponOutcome = train.groupby(['OutcomeType','SexuponOutcome'])\n",
    "print(sexuponOutcome.size().unstack())\n",
    "sexuponOutcome.size().unstack().plot(kind='bar')"
   ]
  },
  {
   "cell_type": "code",
   "execution_count": 12,
   "metadata": {},
   "outputs": [
    {
     "name": "stdout",
     "output_type": "stream",
     "text": [
      "['1 year' '2 years' '3 weeks' '1 month' '5 months' '4 years' '3 months'\n",
      " '2 weeks' '2 months' '10 months' '6 months' '5 years' '7 years' '3 years'\n",
      " '4 months' '12 years' '9 years' '6 years' '1 weeks' '11 years' '4 weeks'\n",
      " '7 months' '8 years' '11 months' '4 days' '9 months' '8 months'\n",
      " '15 years' '10 years' '1 week' '0 years' '14 years' '3 days' '6 days'\n",
      " '5 days' '5 weeks' '2 days' '16 years' '1 day' '13 years' nan '17 years'\n",
      " '18 years' '19 years' '20 years']\n"
     ]
    }
   ],
   "source": [
    "#Unique values for ageuponoutcome\n",
    "print(train.AgeuponOutcome.unique())"
   ]
  },
  {
   "cell_type": "code",
   "execution_count": 13,
   "metadata": {},
   "outputs": [
    {
     "data": {
      "text/html": [
       "<div>\n",
       "<style scoped>\n",
       "    .dataframe tbody tr th:only-of-type {\n",
       "        vertical-align: middle;\n",
       "    }\n",
       "\n",
       "    .dataframe tbody tr th {\n",
       "        vertical-align: top;\n",
       "    }\n",
       "\n",
       "    .dataframe thead th {\n",
       "        text-align: right;\n",
       "    }\n",
       "</style>\n",
       "<table border=\"1\" class=\"dataframe\">\n",
       "  <thead>\n",
       "    <tr style=\"text-align: right;\">\n",
       "      <th></th>\n",
       "      <th>Name</th>\n",
       "      <th>DateTime</th>\n",
       "      <th>OutcomeType</th>\n",
       "      <th>OutcomeSubtype</th>\n",
       "      <th>AnimalType</th>\n",
       "      <th>SexuponOutcome</th>\n",
       "      <th>AgeuponOutcome</th>\n",
       "      <th>Breed</th>\n",
       "      <th>Color</th>\n",
       "      <th>AgeinYears</th>\n",
       "    </tr>\n",
       "    <tr>\n",
       "      <th>AnimalID</th>\n",
       "      <th></th>\n",
       "      <th></th>\n",
       "      <th></th>\n",
       "      <th></th>\n",
       "      <th></th>\n",
       "      <th></th>\n",
       "      <th></th>\n",
       "      <th></th>\n",
       "      <th></th>\n",
       "      <th></th>\n",
       "    </tr>\n",
       "  </thead>\n",
       "  <tbody>\n",
       "    <tr>\n",
       "      <th>A671945</th>\n",
       "      <td>Hambone</td>\n",
       "      <td>2014-02-12 18:22:00</td>\n",
       "      <td>Return_to_owner</td>\n",
       "      <td>NaN</td>\n",
       "      <td>Dog</td>\n",
       "      <td>Neutered Male</td>\n",
       "      <td>1 year</td>\n",
       "      <td>Shetland Sheepdog Mix</td>\n",
       "      <td>Brown/White</td>\n",
       "      <td>1.000000</td>\n",
       "    </tr>\n",
       "    <tr>\n",
       "      <th>A656520</th>\n",
       "      <td>Emily</td>\n",
       "      <td>2013-10-13 12:44:00</td>\n",
       "      <td>Euthanasia</td>\n",
       "      <td>Suffering</td>\n",
       "      <td>Cat</td>\n",
       "      <td>Spayed Female</td>\n",
       "      <td>1 year</td>\n",
       "      <td>Domestic Shorthair Mix</td>\n",
       "      <td>Cream Tabby</td>\n",
       "      <td>1.000000</td>\n",
       "    </tr>\n",
       "    <tr>\n",
       "      <th>A686464</th>\n",
       "      <td>Pearce</td>\n",
       "      <td>2015-01-31 12:28:00</td>\n",
       "      <td>Adoption</td>\n",
       "      <td>Foster</td>\n",
       "      <td>Dog</td>\n",
       "      <td>Neutered Male</td>\n",
       "      <td>2 years</td>\n",
       "      <td>Pit Bull Mix</td>\n",
       "      <td>Blue/White</td>\n",
       "      <td>2.000000</td>\n",
       "    </tr>\n",
       "    <tr>\n",
       "      <th>A683430</th>\n",
       "      <td>NaN</td>\n",
       "      <td>2014-07-11 19:09:00</td>\n",
       "      <td>Transfer</td>\n",
       "      <td>Partner</td>\n",
       "      <td>Cat</td>\n",
       "      <td>Intact Male</td>\n",
       "      <td>3 weeks</td>\n",
       "      <td>Domestic Shorthair Mix</td>\n",
       "      <td>Blue Cream</td>\n",
       "      <td>0.057692</td>\n",
       "    </tr>\n",
       "    <tr>\n",
       "      <th>A667013</th>\n",
       "      <td>NaN</td>\n",
       "      <td>2013-11-15 12:52:00</td>\n",
       "      <td>Transfer</td>\n",
       "      <td>Partner</td>\n",
       "      <td>Dog</td>\n",
       "      <td>Neutered Male</td>\n",
       "      <td>2 years</td>\n",
       "      <td>Lhasa Apso/Miniature Poodle</td>\n",
       "      <td>Tan</td>\n",
       "      <td>2.000000</td>\n",
       "    </tr>\n",
       "  </tbody>\n",
       "</table>\n",
       "</div>"
      ],
      "text/plain": [
       "             Name             DateTime      OutcomeType OutcomeSubtype  \\\n",
       "AnimalID                                                                 \n",
       "A671945   Hambone  2014-02-12 18:22:00  Return_to_owner            NaN   \n",
       "A656520     Emily  2013-10-13 12:44:00       Euthanasia      Suffering   \n",
       "A686464    Pearce  2015-01-31 12:28:00         Adoption         Foster   \n",
       "A683430       NaN  2014-07-11 19:09:00         Transfer        Partner   \n",
       "A667013       NaN  2013-11-15 12:52:00         Transfer        Partner   \n",
       "\n",
       "         AnimalType SexuponOutcome AgeuponOutcome  \\\n",
       "AnimalID                                            \n",
       "A671945         Dog  Neutered Male         1 year   \n",
       "A656520         Cat  Spayed Female         1 year   \n",
       "A686464         Dog  Neutered Male        2 years   \n",
       "A683430         Cat    Intact Male        3 weeks   \n",
       "A667013         Dog  Neutered Male        2 years   \n",
       "\n",
       "                                Breed        Color  AgeinYears  \n",
       "AnimalID                                                        \n",
       "A671945         Shetland Sheepdog Mix  Brown/White    1.000000  \n",
       "A656520        Domestic Shorthair Mix  Cream Tabby    1.000000  \n",
       "A686464                  Pit Bull Mix   Blue/White    2.000000  \n",
       "A683430        Domestic Shorthair Mix   Blue Cream    0.057692  \n",
       "A667013   Lhasa Apso/Miniature Poodle          Tan    2.000000  "
      ]
     },
     "execution_count": 13,
     "metadata": {},
     "output_type": "execute_result"
    }
   ],
   "source": [
    "#map age so that all values are in years\n",
    "\n",
    "age_map = {\n",
    "    '1 year' : 1.,\n",
    "    '2 years' : 2.,\n",
    "    '3 weeks' : 3/52.,\n",
    "    '1 month' : 1/12.,\n",
    "    '5 months' : 5/12.,\n",
    "    '4 years' : 4.,\n",
    "    '3 months' : 3/12.,\n",
    "    '2 weeks' : 2/52.,\n",
    "    '2 months' : 2/12.,\n",
    "    '10 months' : 10/12.,\n",
    "    '6 months' : 6/12.,\n",
    "    '5 years' : 5.,\n",
    "    '7 years' : 7.,\n",
    "    '3 years' : 3.,\n",
    "    '4 months' : 4/12.,\n",
    "    '12 years' : 12.,\n",
    "    '9 years' : 9.,\n",
    "    '6 years' : 6.,\n",
    "    '1 weeks' : 1/52.,\n",
    "    '11 years' : 11.,\n",
    "    '4 weeks' : 4/52.,\n",
    "    '7 months' : 7/12.,\n",
    "    '8 years' : 8.,\n",
    "    '11 months' : 11/12.,\n",
    "    '4 days' : 4/365.,\n",
    "    '9 months' : 9/12.,\n",
    "    '8 months' : 8/12.,\n",
    "    '15 years' : 15.,\n",
    "    '10 years' : 10.,\n",
    "    '1 week' : 1/52.,\n",
    "    '0 years' : 0.,\n",
    "    '14 years' : 14.,\n",
    "    '3 days' : 3/365.,\n",
    "    '6 days' : 6/365.,\n",
    "    '5 days' : 5/365.,\n",
    "    '5 weeks' : 5/52.,\n",
    "    '2 days' : 2/365.,\n",
    "    '16 years' : 16.,\n",
    "    '1 day' : 1/365.,\n",
    "    '13 years' : 13.,\n",
    "    '17 years' : 17.,\n",
    "    '18 years' : 18.,\n",
    "    '19 years' : 19.,\n",
    "    '20 years' : 20.,\n",
    "}\n",
    "\n",
    "train['AgeinYears'] = train['AgeuponOutcome'].map(age_map)\n",
    "train.head()"
   ]
  },
  {
   "cell_type": "markdown",
   "metadata": {},
   "source": [
    "## AGE STUDIES"
   ]
  },
  {
   "cell_type": "code",
   "execution_count": 14,
   "metadata": {},
   "outputs": [
    {
     "data": {
      "text/plain": [
       "<matplotlib.axes._subplots.AxesSubplot at 0x12a5ee48>"
      ]
     },
     "execution_count": 14,
     "metadata": {},
     "output_type": "execute_result"
    },
    {
     "data": {
      "image/png": "[encoded data removed]",
      "text/plain": [
       "<matplotlib.figure.Figure at 0x11905438>"
      ]
     },
     "metadata": {},
     "output_type": "display_data"
    },
    {
     "data": {
      "image/png": "[encoded data removed]",
      "text/plain": [
       "<matplotlib.figure.Figure at 0x118db940>"
      ]
     },
     "metadata": {},
     "output_type": "display_data"
    },
    {
     "data": {
      "image/png": "[encoded data removed]",
      "text/plain": [
       "<matplotlib.figure.Figure at 0x11a50860>"
      ]
     },
     "metadata": {},
     "output_type": "display_data"
    }
   ],
   "source": [
    "animalsByAge = train.AgeinYears.value_counts()\n",
    "\n",
    "#plot number of animals brought in by AgeinYears\n",
    "plt.figure(1)\n",
    "train.AgeinYears.value_counts().sort_index().plot(kind='bar', title = 'Animals by Age')\n",
    "\n",
    "#plot number of cats brought in by AgeinYears\n",
    "plt.figure(2)\n",
    "train.loc[train.AnimalType == 'Cat'].AgeinYears.value_counts().sort_index().plot(kind='bar', title = 'Cats by Age')\n",
    "\n",
    "#plot number of dogs brought in by AgeinYears\n",
    "plt.figure(3)\n",
    "train.loc[train.AnimalType == 'Dog'].AgeinYears.value_counts().sort_index().plot(kind='bar', title = 'Dogs by Age')\n"
   ]
  },
  {
   "cell_type": "code",
   "execution_count": 15,
   "metadata": {},
   "outputs": [
    {
     "name": "stdout",
     "output_type": "stream",
     "text": [
      "(1752, 10)\n"
     ]
    },
    {
     "data": {
      "text/plain": [
       "<matplotlib.axes._subplots.AxesSubplot at 0x12dc3940>"
      ]
     },
     "execution_count": 15,
     "metadata": {},
     "output_type": "execute_result"
    },
    {
     "data": {
      "image/png": "[encoded data removed]",
      "text/plain": [
       "<matplotlib.figure.Figure at 0xf1991d0>"
      ]
     },
     "metadata": {},
     "output_type": "display_data"
    },
    {
     "data": {
      "image/png": "[encoded data removed]",
      "text/plain": [
       "<matplotlib.figure.Figure at 0x12b42908>"
      ]
     },
     "metadata": {},
     "output_type": "display_data"
    },
    {
     "data": {
      "image/png": "[encoded data removed]",
      "text/plain": [
       "<matplotlib.figure.Figure at 0x12cb0da0>"
      ]
     },
     "metadata": {},
     "output_type": "display_data"
    },
    {
     "data": {
      "image/png": "[encoded data removed]",
      "text/plain": [
       "<matplotlib.figure.Figure at 0x12db68d0>"
      ]
     },
     "metadata": {},
     "output_type": "display_data"
    }
   ],
   "source": [
    "#gather all animals with OutcomeType of Euthanasia\n",
    "unwantedOutcomeAnimals = train.loc[(train.OutcomeType == 'Euthanasia') | (train.OutcomeType == 'Died')]\n",
    "print(unwantedOutcomeAnimals.shape)\n",
    "euthanizedAnimals = unwantedOutcomeAnimals.loc[unwantedOutcomeAnimals.OutcomeType == 'Euthanasia']\n",
    "diedAnimals = unwantedOutcomeAnimals.loc[unwantedOutcomeAnimals.OutcomeType == 'Died']\n",
    "\n",
    "plt.figure(1)\n",
    "plt.ylabel('# of Animals Euthanized by Age')\n",
    "plt.xlabel('Age')\n",
    "(euthanizedAnimals.AgeinYears.value_counts()).sort_index().plot(kind = 'bar',title='Total Euthanized Animals by Age')\n",
    "plt.figure(2)\n",
    "plt.ylabel('% of Animals Euthanized by Age')\n",
    "plt.xlabel('Age')\n",
    "(euthanizedAnimals.AgeinYears.value_counts()/animalsByAge).sort_index().plot(kind = 'bar',title='Percentage Euthanized Animals by Age')\n",
    "plt.figure(3)\n",
    "plt.ylabel('# of Animals Euthanized by Age')\n",
    "plt.xlabel('Age')\n",
    "diedAnimals.AgeinYears.value_counts().sort_index().plot(kind = 'bar',title='Total Dead Animals by Age')\n",
    "plt.figure(4)\n",
    "plt.ylabel('% of Animals Dead by Age')\n",
    "plt.xlabel('Age')\n",
    "(diedAnimals.AgeinYears.value_counts()/animalsByAge).sort_index().plot(kind = 'bar',title='Percentage Dead Animals by Age')"
   ]
  },
  {
   "cell_type": "code",
   "execution_count": 16,
   "metadata": {},
   "outputs": [
    {
     "data": {
      "text/plain": [
       "<matplotlib.axes._subplots.AxesSubplot at 0x130c25f8>"
      ]
     },
     "execution_count": 16,
     "metadata": {},
     "output_type": "execute_result"
    },
    {
     "data": {
      "image/png": "[encoded data removed]",
      "text/plain": [
       "<matplotlib.figure.Figure at 0x11925320>"
      ]
     },
     "metadata": {},
     "output_type": "display_data"
    },
    {
     "data": {
      "image/png": "[encoded data removed]",
      "text/plain": [
       "<matplotlib.figure.Figure at 0x118be9e8>"
      ]
     },
     "metadata": {},
     "output_type": "display_data"
    }
   ],
   "source": [
    "# plot Euthanized cats by age\n",
    "euthanizedCats = euthanizedAnimals.loc[euthanizedAnimals.AnimalType == 'Cat']\n",
    "plt.figure(1)\n",
    "euthanizedCats.AgeinYears.value_counts().sort_index().plot(title=\"Euthanized Cats by Age\", kind='bar')\n",
    "\n",
    "#plot Euthanized dogs by age\n",
    "euthanizedDogs = euthanizedAnimals.loc[euthanizedAnimals.AnimalType == 'Dog']\n",
    "plt.figure(2)\n",
    "euthanizedDogs.AgeinYears.value_counts().sort_index().plot(title=\"Euthanized Dogs by Age\", kind='bar')"
   ]
  },
  {
   "cell_type": "code",
   "execution_count": 17,
   "metadata": {},
   "outputs": [],
   "source": [
    "Cats = train.loc[train.AnimalType == 'Cat']\n",
    "\n",
    "Dogs = train.loc[train.AnimalType == 'Dog']"
   ]
  },
  {
   "cell_type": "code",
   "execution_count": 18,
   "metadata": {},
   "outputs": [
    {
     "data": {
      "text/plain": [
       "<matplotlib.axes._subplots.AxesSubplot at 0x133faf98>"
      ]
     },
     "execution_count": 18,
     "metadata": {},
     "output_type": "execute_result"
    },
    {
     "data": {
      "image/png": "[encoded data removed]",
      "text/plain": [
       "<matplotlib.figure.Figure at 0x131876d8>"
      ]
     },
     "metadata": {},
     "output_type": "display_data"
    },
    {
     "data": {
      "image/png": "[encoded data removed]",
      "text/plain": [
       "<matplotlib.figure.Figure at 0x13173cc0>"
      ]
     },
     "metadata": {},
     "output_type": "display_data"
    }
   ],
   "source": [
    "#plot dead cats by age\n",
    "diedCats = diedAnimals.loc[diedAnimals.AnimalType == 'Cat']\n",
    "plt.figure(1)\n",
    "((diedCats.AgeinYears.value_counts())/(Cats.AgeinYears.value_counts())).sort_index().plot(title=\"Dead Cats by Age\", kind='bar')\n",
    "\n",
    "#plot dead dogs by age\n",
    "diedDogs = diedAnimals.loc[diedAnimals.AnimalType == 'Dog']\n",
    "plt.figure(2)\n",
    "((diedDogs.AgeinYears.value_counts())/(Dogs.AgeinYears.value_counts())).sort_index().plot(title=\"Dead Dogs by Age\", kind='bar')"
   ]
  },
  {
   "cell_type": "code",
   "execution_count": 19,
   "metadata": {},
   "outputs": [
    {
     "name": "stdout",
     "output_type": "stream",
     "text": [
      "         Name             DateTime OutcomeType OutcomeSubtype AnimalType  \\\n",
      "AnimalID                                                                   \n",
      "A683430   NaN  2014-07-11 19:09:00    Transfer        Partner        Cat   \n",
      "A667013   NaN  2013-11-15 12:52:00    Transfer        Partner        Dog   \n",
      "A701489   NaN  2015-04-30 17:02:00    Transfer        Partner        Cat   \n",
      "A677747   NaN  2014-05-03 07:48:00    Adoption        Offsite        Dog   \n",
      "A668402   NaN  2013-12-05 15:50:00    Transfer           SCRP        Cat   \n",
      "A666320   NaN  2013-11-04 14:48:00    Adoption            NaN        Dog   \n",
      "A678050   NaN  2014-05-03 16:15:00    Transfer        Partner        Cat   \n",
      "A680028   NaN  2014-06-07 12:54:00    Transfer        Partner        Dog   \n",
      "A718535   NaN  2016-01-01 13:57:00  Euthanasia      Suffering        Cat   \n",
      "A682532   NaN  2014-07-03 17:01:00    Adoption            NaN        Cat   \n",
      "A668626   NaN  2013-12-06 14:55:00  Euthanasia      Suffering        Dog   \n",
      "A682413   NaN  2014-07-02 13:37:00    Transfer        Partner        Cat   \n",
      "A707503   NaN  2015-07-14 12:16:00    Transfer        Partner        Cat   \n",
      "A705598   NaN  2015-06-23 13:25:00    Transfer        Partner        Cat   \n",
      "A671181   NaN  2014-01-21 15:15:00    Transfer           SCRP        Cat   \n",
      "A701804   NaN  2015-05-05 11:46:00    Transfer        Partner        Cat   \n",
      "A666092   NaN  2013-10-30 15:37:00  Euthanasia     Aggressive        Dog   \n",
      "A684050   NaN  2014-07-28 09:00:00    Transfer           SCRP        Cat   \n",
      "A682347   NaN  2014-06-26 17:16:00    Transfer        Partner        Cat   \n",
      "A712979   NaN  2015-10-04 15:02:00    Transfer        Partner        Cat   \n",
      "A683443   NaN  2014-07-18 16:23:00    Transfer        Partner        Dog   \n",
      "A683961   NaN  2014-07-17 17:31:00    Transfer        Partner        Cat   \n",
      "A705258   NaN  2015-06-16 09:00:00    Transfer           SCRP        Cat   \n",
      "A674913   NaN  2014-03-25 18:15:00    Adoption            NaN        Dog   \n",
      "A675021   NaN  2014-03-21 17:09:00  Euthanasia      Suffering        Cat   \n",
      "A717839   NaN  2015-12-20 19:38:00    Transfer           SCRP        Cat   \n",
      "A712376   NaN  2015-09-22 12:10:00  Euthanasia      Suffering        Cat   \n",
      "A713690   NaN  2015-10-12 09:00:00    Transfer           SCRP        Cat   \n",
      "A687789   NaN  2014-09-14 18:51:00    Adoption            NaN        Dog   \n",
      "A707531   NaN  2015-07-14 15:04:00    Transfer        Partner        Cat   \n",
      "...       ...                  ...         ...            ...        ...   \n",
      "A720109   NaN  2016-02-18 10:40:00  Euthanasia      Suffering        Dog   \n",
      "A680948   NaN  2014-06-16 11:22:00    Adoption            NaN        Dog   \n",
      "A716882   NaN  2015-11-29 18:45:00    Adoption            NaN        Cat   \n",
      "A714590   NaN  2015-10-29 17:39:00    Adoption            NaN        Dog   \n",
      "A667859   NaN  2013-11-26 14:58:00    Transfer           SCRP        Cat   \n",
      "A692850   NaN  2014-11-27 09:00:00    Transfer           SCRP        Cat   \n",
      "A693023   NaN  2014-12-01 09:00:00    Transfer           SCRP        Cat   \n",
      "A684346   NaN  2014-07-22 16:04:00    Transfer        Partner        Cat   \n",
      "A710378   NaN  2015-08-28 18:42:00    Adoption            NaN        Cat   \n",
      "A666377   NaN  2013-10-31 12:50:00    Transfer        Partner        Cat   \n",
      "A694679   NaN  2015-01-03 09:00:00    Transfer           SCRP        Cat   \n",
      "A674506   NaN  2014-03-17 10:36:00  Euthanasia      Suffering        Dog   \n",
      "A676950   NaN  2014-04-18 14:47:00    Transfer           SCRP        Cat   \n",
      "A689731   NaN  2014-10-14 08:18:00  Euthanasia       Behavior        Dog   \n",
      "A667787   NaN  2013-11-30 18:33:00    Transfer        Partner        Dog   \n",
      "A695546   NaN  2015-01-18 09:00:00    Transfer           SCRP        Cat   \n",
      "A702863   NaN  2015-05-19 09:00:00    Transfer           SCRP        Cat   \n",
      "A689726   NaN  2014-10-13 18:26:00    Adoption            NaN        Cat   \n",
      "A678136   NaN  2014-05-04 16:17:00    Transfer        Partner        Cat   \n",
      "A713637   NaN  2015-10-11 09:42:00        Died      In Kennel        Cat   \n",
      "A682690   NaN  2014-07-01 17:06:00  Euthanasia      Suffering        Cat   \n",
      "A714386   NaN  2015-10-24 00:00:00    Adoption            NaN        Dog   \n",
      "A671169   NaN  2014-01-20 17:37:00  Euthanasia      Suffering        Cat   \n",
      "A701044   NaN  2015-04-28 14:26:00    Adoption            NaN        Dog   \n",
      "A707871   NaN  2015-07-20 09:00:00    Transfer           SCRP        Cat   \n",
      "A687056   NaN  2014-08-31 09:00:00    Transfer           SCRP        Cat   \n",
      "A702446   NaN  2015-05-14 11:56:00    Transfer        Partner        Cat   \n",
      "A718934   NaN  2016-01-20 18:59:00    Transfer           SCRP        Cat   \n",
      "A677478   NaN  2014-04-27 12:22:00    Transfer        Partner        Cat   \n",
      "A706629   NaN  2015-07-02 09:00:00    Transfer           SCRP        Cat   \n",
      "\n",
      "         SexuponOutcome AgeuponOutcome                              Breed  \\\n",
      "AnimalID                                                                    \n",
      "A683430     Intact Male        3 weeks             Domestic Shorthair Mix   \n",
      "A667013   Neutered Male        2 years        Lhasa Apso/Miniature Poodle   \n",
      "A701489         Unknown        3 weeks             Domestic Shorthair Mix   \n",
      "A677747   Spayed Female         1 year                      Cairn Terrier   \n",
      "A668402         Unknown        2 years             Domestic Shorthair Mix   \n",
      "A666320   Spayed Female        2 years            Miniature Schnauzer Mix   \n",
      "A678050     Intact Male        3 weeks             Domestic Shorthair Mix   \n",
      "A680028   Intact Female        2 weeks                       Pit Bull Mix   \n",
      "A718535   Spayed Female        3 years             Domestic Shorthair Mix   \n",
      "A682532   Spayed Female       2 months             Domestic Shorthair Mix   \n",
      "A668626     Intact Male        3 years             Labrador Retriever Mix   \n",
      "A682413     Intact Male       2 months             Domestic Shorthair Mix   \n",
      "A707503     Intact Male        3 weeks             Domestic Shorthair Mix   \n",
      "A705598     Intact Male       2 months             Domestic Shorthair Mix   \n",
      "A671181     Intact Male        4 years              Domestic Longhair Mix   \n",
      "A701804   Intact Female        3 weeks             Domestic Shorthair Mix   \n",
      "A666092     Intact Male        6 years        Pit Bull/Labrador Retriever   \n",
      "A684050   Intact Female         1 year             Domestic Shorthair Mix   \n",
      "A682347   Intact Female        3 weeks             Domestic Shorthair Mix   \n",
      "A712979     Intact Male        1 weeks             Domestic Shorthair Mix   \n",
      "A683443     Intact Male         1 year            Chihuahua Shorthair Mix   \n",
      "A683961         Unknown        2 weeks             Domestic Shorthair Mix   \n",
      "A705258         Unknown       2 months             Domestic Shorthair Mix   \n",
      "A674913   Spayed Female        3 years     German Shepherd/Great Pyrenees   \n",
      "A675021   Intact Female         1 year             Domestic Shorthair Mix   \n",
      "A717839   Spayed Female        2 years             Domestic Shorthair Mix   \n",
      "A712376         Unknown        2 weeks             Domestic Shorthair Mix   \n",
      "A713690     Intact Male        2 years             Domestic Shorthair Mix   \n",
      "A687789   Neutered Male         1 year                   Dachshund/Beagle   \n",
      "A707531     Intact Male        2 weeks             Domestic Shorthair Mix   \n",
      "...                 ...            ...                                ...   \n",
      "A720109   Intact Female       2 months                    Rat Terrier Mix   \n",
      "A680948   Spayed Female         1 year  German Shepherd/Australian Kelpie   \n",
      "A716882   Neutered Male       5 months             Domestic Shorthair Mix   \n",
      "A714590   Spayed Female       3 months                       Pit Bull Mix   \n",
      "A667859     Intact Male        2 years             Domestic Shorthair Mix   \n",
      "A692850   Intact Female        2 years             Domestic Shorthair Mix   \n",
      "A693023     Intact Male        2 years             Domestic Shorthair Mix   \n",
      "A684346     Intact Male        2 weeks             Domestic Shorthair Mix   \n",
      "A710378   Neutered Male       2 months             Domestic Shorthair Mix   \n",
      "A666377   Intact Female        2 weeks             Domestic Shorthair Mix   \n",
      "A694679         Unknown         1 year             Domestic Shorthair Mix   \n",
      "A674506     Intact Male        4 years    Miniature Poodle/Cocker Spaniel   \n",
      "A676950         Unknown       8 months             Domestic Shorthair Mix   \n",
      "A689731     Intact Male         1 year                   Dachshund/Beagle   \n",
      "A667787   Spayed Female       4 months              Boxer/German Shepherd   \n",
      "A695546     Intact Male         1 year             Domestic Shorthair Mix   \n",
      "A702863     Intact Male        2 years             Domestic Shorthair Mix   \n",
      "A689726   Spayed Female       2 months             Domestic Shorthair Mix   \n",
      "A678136     Intact Male        4 weeks                       Snowshoe Mix   \n",
      "A713637   Spayed Female        2 years                        Siamese Mix   \n",
      "A682690         Unknown         1 year             Domestic Shorthair Mix   \n",
      "A714386   Spayed Female        1 month            Chihuahua Shorthair Mix   \n",
      "A671169   Intact Female       18 years              Domestic Longhair Mix   \n",
      "A701044   Neutered Male       2 months     Siberian Husky/German Shepherd   \n",
      "A707871         Unknown        2 years             Domestic Shorthair Mix   \n",
      "A687056     Intact Male       5 months             Domestic Shorthair Mix   \n",
      "A702446     Intact Male        1 month             Domestic Shorthair Mix   \n",
      "A718934   Spayed Female       3 months             Domestic Shorthair Mix   \n",
      "A677478     Intact Male        4 weeks             Domestic Shorthair Mix   \n",
      "A706629     Intact Male         1 year             Domestic Shorthair Mix   \n",
      "\n",
      "                        Color  AgeinYears  \n",
      "AnimalID                                   \n",
      "A683430            Blue Cream    0.057692  \n",
      "A667013                   Tan    2.000000  \n",
      "A701489           Brown Tabby    0.057692  \n",
      "A677747                 White    1.000000  \n",
      "A668402                 Black    2.000000  \n",
      "A666320                Silver    2.000000  \n",
      "A678050           Brown Tabby    0.057692  \n",
      "A680028           Brown/White    0.038462  \n",
      "A718535                Calico    3.000000  \n",
      "A682532                Torbie    0.166667  \n",
      "A668626                Yellow    3.000000  \n",
      "A682413            Blue/White    0.166667  \n",
      "A707503           Brown Tabby    0.057692  \n",
      "A705598          Orange Tabby    0.166667  \n",
      "A671181           Black/White    4.000000  \n",
      "A701804                 Black    0.057692  \n",
      "A666092       Chocolate/White    6.000000  \n",
      "A684050                Tortie    1.000000  \n",
      "A682347      Blue Tabby/White    0.057692  \n",
      "A712979                 Black    0.019231  \n",
      "A683443                   Tan    1.000000  \n",
      "A683961                 Black    0.038462  \n",
      "A705258     Brown Tabby/White    0.166667  \n",
      "A674913                 White    3.000000  \n",
      "A675021                Calico    1.000000  \n",
      "A717839           Black/White    2.000000  \n",
      "A712376            Blue Tabby    0.038462  \n",
      "A713690            Blue Tabby    2.000000  \n",
      "A687789           Brown/White    1.000000  \n",
      "A707531                 Black    0.038462  \n",
      "...                       ...         ...  \n",
      "A720109              Tricolor    0.166667  \n",
      "A680948           Brown/White    1.000000  \n",
      "A716882            Seal Point    0.416667  \n",
      "A714590   Black Brindle/White    0.250000  \n",
      "A667859           Cream Tabby    2.000000  \n",
      "A692850                Tortie    2.000000  \n",
      "A693023     Brown Tabby/White    2.000000  \n",
      "A684346          Orange Tabby    0.038462  \n",
      "A710378           Black/White    0.166667  \n",
      "A666377           Black/White    0.038462  \n",
      "A694679                 Black    1.000000  \n",
      "A674506                 White    4.000000  \n",
      "A676950           Black/White    0.666667  \n",
      "A689731             White/Tan    1.000000  \n",
      "A667787                 Brown    0.333333  \n",
      "A695546          Orange Tabby    1.000000  \n",
      "A702863          Orange Tabby    2.000000  \n",
      "A689726      Blue Tabby/White    0.166667  \n",
      "A678136            Seal Point    0.076923  \n",
      "A713637            Lynx Point    2.000000  \n",
      "A682690           Brown Tabby    1.000000  \n",
      "A714386            Sable/Buff    0.083333  \n",
      "A671169                Tortie   18.000000  \n",
      "A701044        Black/Tricolor    0.166667  \n",
      "A707871     Brown Tabby/White    2.000000  \n",
      "A687056          Orange Tabby    0.416667  \n",
      "A702446     Brown Tabby/White    0.083333  \n",
      "A718934           Brown Tabby    0.250000  \n",
      "A677478                 Black    0.076923  \n",
      "A706629     Brown Tabby/White    1.000000  \n",
      "\n",
      "[7691 rows x 10 columns]\n"
     ]
    }
   ],
   "source": [
    "#check if named animals are more fortunate than unnamed animals\n",
    "\n",
    "named = train.loc[train.Name.notnull()]\n",
    "unNamed = train.loc[train.Name.isnull()]\n",
    "print(unNamed)"
   ]
  },
  {
   "cell_type": "code",
   "execution_count": 20,
   "metadata": {},
   "outputs": [
    {
     "data": {
      "text/plain": [
       "<matplotlib.axes._subplots.AxesSubplot at 0x12e43908>"
      ]
     },
     "execution_count": 20,
     "metadata": {},
     "output_type": "execute_result"
    },
    {
     "data": {
      "image/png": "[encoded data removed]",
      "text/plain": [
       "<matplotlib.figure.Figure at 0x13010a90>"
      ]
     },
     "metadata": {},
     "output_type": "display_data"
    }
   ],
   "source": [
    "(unNamed.loc[unNamed.OutcomeType == \"Died\"].AgeinYears.value_counts()/diedAnimals.AgeinYears.value_counts()).sort_index().plot(title=\"Unnamed Dead Animals by Age\", kind='bar')"
   ]
  },
  {
   "cell_type": "code",
   "execution_count": 21,
   "metadata": {},
   "outputs": [
    {
     "data": {
      "text/plain": [
       "<matplotlib.axes._subplots.AxesSubplot at 0x12dbd518>"
      ]
     },
     "execution_count": 21,
     "metadata": {},
     "output_type": "execute_result"
    },
    {
     "data": {
      "image/png": "[encoded data removed]",
      "text/plain": [
       "<matplotlib.figure.Figure at 0x12fcf0b8>"
      ]
     },
     "metadata": {},
     "output_type": "display_data"
    }
   ],
   "source": [
    "(named.loc[named.OutcomeType == \"Died\"].AgeinYears.value_counts()/diedAnimals.AgeinYears.value_counts()).sort_index().plot(title=\"Named Dead Animals by Age\", kind='bar')"
   ]
  },
  {
   "cell_type": "markdown",
   "metadata": {},
   "source": [
    "## Sex Upon Outcome Studies"
   ]
  },
  {
   "cell_type": "code",
   "execution_count": 22,
   "metadata": {},
   "outputs": [
    {
     "data": {
      "text/plain": [
       "<matplotlib.axes._subplots.AxesSubplot at 0x12a4df28>"
      ]
     },
     "execution_count": 22,
     "metadata": {},
     "output_type": "execute_result"
    },
    {
     "data": {
      "image/png": "[encoded data removed]",
      "text/plain": [
       "<matplotlib.figure.Figure at 0x12a5eef0>"
      ]
     },
     "metadata": {},
     "output_type": "display_data"
    },
    {
     "data": {
      "image/png": "[encoded data removed]",
      "text/plain": [
       "<matplotlib.figure.Figure at 0x12b28780>"
      ]
     },
     "metadata": {},
     "output_type": "display_data"
    },
    {
     "data": {
      "image/png": "[encoded data removed]",
      "text/plain": [
       "<matplotlib.figure.Figure at 0xf1959b0>"
      ]
     },
     "metadata": {},
     "output_type": "display_data"
    }
   ],
   "source": [
    "animalsbySex = train.SexuponOutcome.value_counts()\n",
    "\n",
    "#plot number of animals brought in by SexuponOutcome\n",
    "plt.figure(1)\n",
    "train.SexuponOutcome.value_counts().sort_index().plot(kind='bar', title = 'Animals by Sex')\n",
    "\n",
    "#plot number of cats brought in by AgeinYears\n",
    "plt.figure(2)\n",
    "((train.loc[train.AnimalType == 'Cat'].SexuponOutcome.value_counts())/(animalsbySex)).sort_index().plot(kind='bar', title = 'Cats by Sex')\n",
    "\n",
    "#plot number of dogs brought in by AgeinYears\n",
    "plt.figure(3)\n",
    "((train.loc[train.AnimalType == 'Dog'].SexuponOutcome.value_counts())/(animalsbySex)).sort_index().plot(kind='bar', title = 'Dogs by Sex')\n"
   ]
  },
  {
   "cell_type": "code",
   "execution_count": 23,
   "metadata": {},
   "outputs": [
    {
     "data": {
      "text/plain": [
       "<matplotlib.axes._subplots.AxesSubplot at 0x13212a20>"
      ]
     },
     "execution_count": 23,
     "metadata": {},
     "output_type": "execute_result"
    },
    {
     "data": {
      "image/png": "[encoded data removed]",
      "text/plain": [
       "<matplotlib.figure.Figure at 0x119fc898>"
      ]
     },
     "metadata": {},
     "output_type": "display_data"
    },
    {
     "data": {
      "image/png": "[encoded data removed]",
      "text/plain": [
       "<matplotlib.figure.Figure at 0x11a5e160>"
      ]
     },
     "metadata": {},
     "output_type": "display_data"
    },
    {
     "data": {
      "image/png": "[encoded data removed]",
      "text/plain": [
       "<matplotlib.figure.Figure at 0x133c6f98>"
      ]
     },
     "metadata": {},
     "output_type": "display_data"
    },
    {
     "data": {
      "image/png": "[encoded data removed]",
      "text/plain": [
       "<matplotlib.figure.Figure at 0x12f9aac8>"
      ]
     },
     "metadata": {},
     "output_type": "display_data"
    }
   ],
   "source": [
    "#gather all animals with OutcomeType of Euthanasia\n",
    "\n",
    "plt.figure(1)\n",
    "plt.ylabel('# of Animals Euthanized per given Sex')\n",
    "plt.xlabel('Sex upon Outcome')\n",
    "euthanizedAnimals.SexuponOutcome.value_counts().sort_index().plot(kind = 'bar',title='Total Euthanized Animals by Sex')\n",
    "plt.figure(2)\n",
    "plt.ylabel('# of Animals Dead per given Sex')\n",
    "plt.xlabel('Sex upon Outcome')\n",
    "diedAnimals.SexuponOutcome.value_counts().sort_index().plot(kind = 'bar',title='Total Dead Animals by Sex')\n",
    "\n",
    "plt.figure(3)\n",
    "plt.ylabel('% of Animals Euthanized per given Sex')\n",
    "plt.xlabel('Sex upon Outcome')\n",
    "((euthanizedAnimals.SexuponOutcome.value_counts())/(train.SexuponOutcome.value_counts())*100).sort_index().plot(kind = 'bar',title='Percentage of Euthanized Animals by Sex')\n",
    "plt.figure(4)\n",
    "plt.ylabel('% of Animals Dead per given Sex')\n",
    "plt.xlabel('Sex upon Outcome')\n",
    "((diedAnimals.SexuponOutcome.value_counts())/(train.SexuponOutcome.value_counts())*100).sort_index().plot(kind = 'bar',title='Percentage of Dead Animals by Sex')"
   ]
  },
  {
   "cell_type": "code",
   "execution_count": 24,
   "metadata": {},
   "outputs": [
    {
     "data": {
      "text/html": [
       "<div>\n",
       "<style scoped>\n",
       "    .dataframe tbody tr th:only-of-type {\n",
       "        vertical-align: middle;\n",
       "    }\n",
       "\n",
       "    .dataframe tbody tr th {\n",
       "        vertical-align: top;\n",
       "    }\n",
       "\n",
       "    .dataframe thead th {\n",
       "        text-align: right;\n",
       "    }\n",
       "</style>\n",
       "<table border=\"1\" class=\"dataframe\">\n",
       "  <thead>\n",
       "    <tr style=\"text-align: right;\">\n",
       "      <th></th>\n",
       "      <th>Name</th>\n",
       "      <th>DateTime</th>\n",
       "      <th>OutcomeType</th>\n",
       "      <th>OutcomeSubtype</th>\n",
       "      <th>AnimalType</th>\n",
       "      <th>SexuponOutcome</th>\n",
       "      <th>AgeuponOutcome</th>\n",
       "      <th>Breed</th>\n",
       "      <th>Color</th>\n",
       "      <th>AgeinYears</th>\n",
       "    </tr>\n",
       "    <tr>\n",
       "      <th>AnimalID</th>\n",
       "      <th></th>\n",
       "      <th></th>\n",
       "      <th></th>\n",
       "      <th></th>\n",
       "      <th></th>\n",
       "      <th></th>\n",
       "      <th></th>\n",
       "      <th></th>\n",
       "      <th></th>\n",
       "      <th></th>\n",
       "    </tr>\n",
       "  </thead>\n",
       "  <tbody>\n",
       "    <tr>\n",
       "      <th>A671945</th>\n",
       "      <td>Hambone</td>\n",
       "      <td>2014-02-12 18:22:00</td>\n",
       "      <td>Return_to_owner</td>\n",
       "      <td>NaN</td>\n",
       "      <td>Dog</td>\n",
       "      <td>Neutered Male</td>\n",
       "      <td>1 year</td>\n",
       "      <td>Shetland Sheepdog Mix</td>\n",
       "      <td>Brown/White</td>\n",
       "      <td>1.000000</td>\n",
       "    </tr>\n",
       "    <tr>\n",
       "      <th>A656520</th>\n",
       "      <td>Emily</td>\n",
       "      <td>2013-10-13 12:44:00</td>\n",
       "      <td>Euthanasia</td>\n",
       "      <td>Suffering</td>\n",
       "      <td>Cat</td>\n",
       "      <td>Spayed Female</td>\n",
       "      <td>1 year</td>\n",
       "      <td>Domestic Shorthair Mix</td>\n",
       "      <td>Cream Tabby</td>\n",
       "      <td>1.000000</td>\n",
       "    </tr>\n",
       "    <tr>\n",
       "      <th>A686464</th>\n",
       "      <td>Pearce</td>\n",
       "      <td>2015-01-31 12:28:00</td>\n",
       "      <td>Adoption</td>\n",
       "      <td>Foster</td>\n",
       "      <td>Dog</td>\n",
       "      <td>Neutered Male</td>\n",
       "      <td>2 years</td>\n",
       "      <td>Pit Bull Mix</td>\n",
       "      <td>Blue/White</td>\n",
       "      <td>2.000000</td>\n",
       "    </tr>\n",
       "    <tr>\n",
       "      <th>A683430</th>\n",
       "      <td>NaN</td>\n",
       "      <td>2014-07-11 19:09:00</td>\n",
       "      <td>Transfer</td>\n",
       "      <td>Partner</td>\n",
       "      <td>Cat</td>\n",
       "      <td>Intact Male</td>\n",
       "      <td>3 weeks</td>\n",
       "      <td>Domestic Shorthair Mix</td>\n",
       "      <td>Blue Cream</td>\n",
       "      <td>0.057692</td>\n",
       "    </tr>\n",
       "    <tr>\n",
       "      <th>A667013</th>\n",
       "      <td>NaN</td>\n",
       "      <td>2013-11-15 12:52:00</td>\n",
       "      <td>Transfer</td>\n",
       "      <td>Partner</td>\n",
       "      <td>Dog</td>\n",
       "      <td>Neutered Male</td>\n",
       "      <td>2 years</td>\n",
       "      <td>Lhasa Apso/Miniature Poodle</td>\n",
       "      <td>Tan</td>\n",
       "      <td>2.000000</td>\n",
       "    </tr>\n",
       "    <tr>\n",
       "      <th>A677334</th>\n",
       "      <td>Elsa</td>\n",
       "      <td>2014-04-25 13:04:00</td>\n",
       "      <td>Transfer</td>\n",
       "      <td>Partner</td>\n",
       "      <td>Dog</td>\n",
       "      <td>Intact Female</td>\n",
       "      <td>1 month</td>\n",
       "      <td>Cairn Terrier/Chihuahua Shorthair</td>\n",
       "      <td>Black/Tan</td>\n",
       "      <td>0.083333</td>\n",
       "    </tr>\n",
       "    <tr>\n",
       "      <th>A699218</th>\n",
       "      <td>Jimmy</td>\n",
       "      <td>2015-03-28 13:11:00</td>\n",
       "      <td>Transfer</td>\n",
       "      <td>Partner</td>\n",
       "      <td>Cat</td>\n",
       "      <td>Intact Male</td>\n",
       "      <td>3 weeks</td>\n",
       "      <td>Domestic Shorthair Mix</td>\n",
       "      <td>Blue Tabby</td>\n",
       "      <td>0.057692</td>\n",
       "    </tr>\n",
       "    <tr>\n",
       "      <th>A701489</th>\n",
       "      <td>NaN</td>\n",
       "      <td>2015-04-30 17:02:00</td>\n",
       "      <td>Transfer</td>\n",
       "      <td>Partner</td>\n",
       "      <td>Cat</td>\n",
       "      <td>Unknown</td>\n",
       "      <td>3 weeks</td>\n",
       "      <td>Domestic Shorthair Mix</td>\n",
       "      <td>Brown Tabby</td>\n",
       "      <td>0.057692</td>\n",
       "    </tr>\n",
       "    <tr>\n",
       "      <th>A671784</th>\n",
       "      <td>Lucy</td>\n",
       "      <td>2014-02-04 17:17:00</td>\n",
       "      <td>Adoption</td>\n",
       "      <td>NaN</td>\n",
       "      <td>Dog</td>\n",
       "      <td>Spayed Female</td>\n",
       "      <td>5 months</td>\n",
       "      <td>American Pit Bull Terrier Mix</td>\n",
       "      <td>Red/White</td>\n",
       "      <td>0.416667</td>\n",
       "    </tr>\n",
       "    <tr>\n",
       "      <th>A677747</th>\n",
       "      <td>NaN</td>\n",
       "      <td>2014-05-03 07:48:00</td>\n",
       "      <td>Adoption</td>\n",
       "      <td>Offsite</td>\n",
       "      <td>Dog</td>\n",
       "      <td>Spayed Female</td>\n",
       "      <td>1 year</td>\n",
       "      <td>Cairn Terrier</td>\n",
       "      <td>White</td>\n",
       "      <td>1.000000</td>\n",
       "    </tr>\n",
       "  </tbody>\n",
       "</table>\n",
       "</div>"
      ],
      "text/plain": [
       "             Name             DateTime      OutcomeType OutcomeSubtype  \\\n",
       "AnimalID                                                                 \n",
       "A671945   Hambone  2014-02-12 18:22:00  Return_to_owner            NaN   \n",
       "A656520     Emily  2013-10-13 12:44:00       Euthanasia      Suffering   \n",
       "A686464    Pearce  2015-01-31 12:28:00         Adoption         Foster   \n",
       "A683430       NaN  2014-07-11 19:09:00         Transfer        Partner   \n",
       "A667013       NaN  2013-11-15 12:52:00         Transfer        Partner   \n",
       "A677334      Elsa  2014-04-25 13:04:00         Transfer        Partner   \n",
       "A699218     Jimmy  2015-03-28 13:11:00         Transfer        Partner   \n",
       "A701489       NaN  2015-04-30 17:02:00         Transfer        Partner   \n",
       "A671784      Lucy  2014-02-04 17:17:00         Adoption            NaN   \n",
       "A677747       NaN  2014-05-03 07:48:00         Adoption        Offsite   \n",
       "\n",
       "         AnimalType SexuponOutcome AgeuponOutcome  \\\n",
       "AnimalID                                            \n",
       "A671945         Dog  Neutered Male         1 year   \n",
       "A656520         Cat  Spayed Female         1 year   \n",
       "A686464         Dog  Neutered Male        2 years   \n",
       "A683430         Cat    Intact Male        3 weeks   \n",
       "A667013         Dog  Neutered Male        2 years   \n",
       "A677334         Dog  Intact Female        1 month   \n",
       "A699218         Cat    Intact Male        3 weeks   \n",
       "A701489         Cat        Unknown        3 weeks   \n",
       "A671784         Dog  Spayed Female       5 months   \n",
       "A677747         Dog  Spayed Female         1 year   \n",
       "\n",
       "                                      Breed        Color  AgeinYears  \n",
       "AnimalID                                                              \n",
       "A671945               Shetland Sheepdog Mix  Brown/White    1.000000  \n",
       "A656520              Domestic Shorthair Mix  Cream Tabby    1.000000  \n",
       "A686464                        Pit Bull Mix   Blue/White    2.000000  \n",
       "A683430              Domestic Shorthair Mix   Blue Cream    0.057692  \n",
       "A667013         Lhasa Apso/Miniature Poodle          Tan    2.000000  \n",
       "A677334   Cairn Terrier/Chihuahua Shorthair    Black/Tan    0.083333  \n",
       "A699218              Domestic Shorthair Mix   Blue Tabby    0.057692  \n",
       "A701489              Domestic Shorthair Mix  Brown Tabby    0.057692  \n",
       "A671784       American Pit Bull Terrier Mix    Red/White    0.416667  \n",
       "A677747                       Cairn Terrier        White    1.000000  "
      ]
     },
     "execution_count": 24,
     "metadata": {},
     "output_type": "execute_result"
    }
   ],
   "source": [
    "#Display top 10 datapoints in training data\n",
    "train.head(n=10)"
   ]
  },
  {
   "cell_type": "code",
   "execution_count": 25,
   "metadata": {},
   "outputs": [
    {
     "data": {
      "text/html": [
       "<div>\n",
       "<style scoped>\n",
       "    .dataframe tbody tr th:only-of-type {\n",
       "        vertical-align: middle;\n",
       "    }\n",
       "\n",
       "    .dataframe tbody tr th {\n",
       "        vertical-align: top;\n",
       "    }\n",
       "\n",
       "    .dataframe thead th {\n",
       "        text-align: right;\n",
       "    }\n",
       "</style>\n",
       "<table border=\"1\" class=\"dataframe\">\n",
       "  <thead>\n",
       "    <tr style=\"text-align: right;\">\n",
       "      <th></th>\n",
       "      <th>Name</th>\n",
       "      <th>DateTime</th>\n",
       "      <th>OutcomeType</th>\n",
       "      <th>OutcomeSubtype</th>\n",
       "      <th>AnimalType</th>\n",
       "      <th>SexuponOutcome</th>\n",
       "      <th>AgeuponOutcome</th>\n",
       "      <th>Breed</th>\n",
       "      <th>Color</th>\n",
       "      <th>AgeinYears</th>\n",
       "      <th>HasName</th>\n",
       "    </tr>\n",
       "    <tr>\n",
       "      <th>AnimalID</th>\n",
       "      <th></th>\n",
       "      <th></th>\n",
       "      <th></th>\n",
       "      <th></th>\n",
       "      <th></th>\n",
       "      <th></th>\n",
       "      <th></th>\n",
       "      <th></th>\n",
       "      <th></th>\n",
       "      <th></th>\n",
       "      <th></th>\n",
       "    </tr>\n",
       "  </thead>\n",
       "  <tbody>\n",
       "    <tr>\n",
       "      <th>A671945</th>\n",
       "      <td>Hambone</td>\n",
       "      <td>2014-02-12 18:22:00</td>\n",
       "      <td>Return_to_owner</td>\n",
       "      <td>NaN</td>\n",
       "      <td>Dog</td>\n",
       "      <td>Neutered Male</td>\n",
       "      <td>1 year</td>\n",
       "      <td>Shetland Sheepdog Mix</td>\n",
       "      <td>Brown/White</td>\n",
       "      <td>1.000000</td>\n",
       "      <td>1</td>\n",
       "    </tr>\n",
       "    <tr>\n",
       "      <th>A656520</th>\n",
       "      <td>Emily</td>\n",
       "      <td>2013-10-13 12:44:00</td>\n",
       "      <td>Euthanasia</td>\n",
       "      <td>Suffering</td>\n",
       "      <td>Cat</td>\n",
       "      <td>Spayed Female</td>\n",
       "      <td>1 year</td>\n",
       "      <td>Domestic Shorthair Mix</td>\n",
       "      <td>Cream Tabby</td>\n",
       "      <td>1.000000</td>\n",
       "      <td>1</td>\n",
       "    </tr>\n",
       "    <tr>\n",
       "      <th>A686464</th>\n",
       "      <td>Pearce</td>\n",
       "      <td>2015-01-31 12:28:00</td>\n",
       "      <td>Adoption</td>\n",
       "      <td>Foster</td>\n",
       "      <td>Dog</td>\n",
       "      <td>Neutered Male</td>\n",
       "      <td>2 years</td>\n",
       "      <td>Pit Bull Mix</td>\n",
       "      <td>Blue/White</td>\n",
       "      <td>2.000000</td>\n",
       "      <td>1</td>\n",
       "    </tr>\n",
       "    <tr>\n",
       "      <th>A683430</th>\n",
       "      <td>NaN</td>\n",
       "      <td>2014-07-11 19:09:00</td>\n",
       "      <td>Transfer</td>\n",
       "      <td>Partner</td>\n",
       "      <td>Cat</td>\n",
       "      <td>Intact Male</td>\n",
       "      <td>3 weeks</td>\n",
       "      <td>Domestic Shorthair Mix</td>\n",
       "      <td>Blue Cream</td>\n",
       "      <td>0.057692</td>\n",
       "      <td>0</td>\n",
       "    </tr>\n",
       "    <tr>\n",
       "      <th>A667013</th>\n",
       "      <td>NaN</td>\n",
       "      <td>2013-11-15 12:52:00</td>\n",
       "      <td>Transfer</td>\n",
       "      <td>Partner</td>\n",
       "      <td>Dog</td>\n",
       "      <td>Neutered Male</td>\n",
       "      <td>2 years</td>\n",
       "      <td>Lhasa Apso/Miniature Poodle</td>\n",
       "      <td>Tan</td>\n",
       "      <td>2.000000</td>\n",
       "      <td>0</td>\n",
       "    </tr>\n",
       "  </tbody>\n",
       "</table>\n",
       "</div>"
      ],
      "text/plain": [
       "             Name             DateTime      OutcomeType OutcomeSubtype  \\\n",
       "AnimalID                                                                 \n",
       "A671945   Hambone  2014-02-12 18:22:00  Return_to_owner            NaN   \n",
       "A656520     Emily  2013-10-13 12:44:00       Euthanasia      Suffering   \n",
       "A686464    Pearce  2015-01-31 12:28:00         Adoption         Foster   \n",
       "A683430       NaN  2014-07-11 19:09:00         Transfer        Partner   \n",
       "A667013       NaN  2013-11-15 12:52:00         Transfer        Partner   \n",
       "\n",
       "         AnimalType SexuponOutcome AgeuponOutcome  \\\n",
       "AnimalID                                            \n",
       "A671945         Dog  Neutered Male         1 year   \n",
       "A656520         Cat  Spayed Female         1 year   \n",
       "A686464         Dog  Neutered Male        2 years   \n",
       "A683430         Cat    Intact Male        3 weeks   \n",
       "A667013         Dog  Neutered Male        2 years   \n",
       "\n",
       "                                Breed        Color  AgeinYears  HasName  \n",
       "AnimalID                                                                 \n",
       "A671945         Shetland Sheepdog Mix  Brown/White    1.000000        1  \n",
       "A656520        Domestic Shorthair Mix  Cream Tabby    1.000000        1  \n",
       "A686464                  Pit Bull Mix   Blue/White    2.000000        1  \n",
       "A683430        Domestic Shorthair Mix   Blue Cream    0.057692        0  \n",
       "A667013   Lhasa Apso/Miniature Poodle          Tan    2.000000        0  "
      ]
     },
     "execution_count": 25,
     "metadata": {},
     "output_type": "execute_result"
    }
   ],
   "source": [
    "#create column for named and unnamed animals\n",
    "\n",
    "#function to determine if named\n",
    "\n",
    "def nameTrueFalse (row):\n",
    "    if isinstance(row['Name'],str):\n",
    "        return 1\n",
    "    return 0\n",
    "\n",
    "train['HasName'] = train.apply(nameTrueFalse, axis=1)\n",
    "train.head()"
   ]
  },
  {
   "cell_type": "code",
   "execution_count": 26,
   "metadata": {},
   "outputs": [
    {
     "data": {
      "text/html": [
       "<div>\n",
       "<style scoped>\n",
       "    .dataframe tbody tr th:only-of-type {\n",
       "        vertical-align: middle;\n",
       "    }\n",
       "\n",
       "    .dataframe tbody tr th {\n",
       "        vertical-align: top;\n",
       "    }\n",
       "\n",
       "    .dataframe thead th {\n",
       "        text-align: right;\n",
       "    }\n",
       "</style>\n",
       "<table border=\"1\" class=\"dataframe\">\n",
       "  <thead>\n",
       "    <tr style=\"text-align: right;\">\n",
       "      <th></th>\n",
       "      <th>Name</th>\n",
       "      <th>DateTime</th>\n",
       "      <th>OutcomeType</th>\n",
       "      <th>OutcomeSubtype</th>\n",
       "      <th>AgeuponOutcome</th>\n",
       "      <th>Breed</th>\n",
       "      <th>Color</th>\n",
       "      <th>AgeinYears</th>\n",
       "      <th>HasName</th>\n",
       "      <th>AnimalType_Cat</th>\n",
       "      <th>AnimalType_Dog</th>\n",
       "      <th>SexuponOutcome_Intact Female</th>\n",
       "      <th>SexuponOutcome_Intact Male</th>\n",
       "      <th>SexuponOutcome_Neutered Male</th>\n",
       "      <th>SexuponOutcome_Spayed Female</th>\n",
       "      <th>SexuponOutcome_Unknown</th>\n",
       "    </tr>\n",
       "    <tr>\n",
       "      <th>AnimalID</th>\n",
       "      <th></th>\n",
       "      <th></th>\n",
       "      <th></th>\n",
       "      <th></th>\n",
       "      <th></th>\n",
       "      <th></th>\n",
       "      <th></th>\n",
       "      <th></th>\n",
       "      <th></th>\n",
       "      <th></th>\n",
       "      <th></th>\n",
       "      <th></th>\n",
       "      <th></th>\n",
       "      <th></th>\n",
       "      <th></th>\n",
       "      <th></th>\n",
       "    </tr>\n",
       "  </thead>\n",
       "  <tbody>\n",
       "    <tr>\n",
       "      <th>A671945</th>\n",
       "      <td>Hambone</td>\n",
       "      <td>2014-02-12 18:22:00</td>\n",
       "      <td>Return_to_owner</td>\n",
       "      <td>NaN</td>\n",
       "      <td>1 year</td>\n",
       "      <td>Shetland Sheepdog Mix</td>\n",
       "      <td>Brown/White</td>\n",
       "      <td>1.000000</td>\n",
       "      <td>1</td>\n",
       "      <td>0</td>\n",
       "      <td>1</td>\n",
       "      <td>0</td>\n",
       "      <td>0</td>\n",
       "      <td>1</td>\n",
       "      <td>0</td>\n",
       "      <td>0</td>\n",
       "    </tr>\n",
       "    <tr>\n",
       "      <th>A656520</th>\n",
       "      <td>Emily</td>\n",
       "      <td>2013-10-13 12:44:00</td>\n",
       "      <td>Euthanasia</td>\n",
       "      <td>Suffering</td>\n",
       "      <td>1 year</td>\n",
       "      <td>Domestic Shorthair Mix</td>\n",
       "      <td>Cream Tabby</td>\n",
       "      <td>1.000000</td>\n",
       "      <td>1</td>\n",
       "      <td>1</td>\n",
       "      <td>0</td>\n",
       "      <td>0</td>\n",
       "      <td>0</td>\n",
       "      <td>0</td>\n",
       "      <td>1</td>\n",
       "      <td>0</td>\n",
       "    </tr>\n",
       "    <tr>\n",
       "      <th>A686464</th>\n",
       "      <td>Pearce</td>\n",
       "      <td>2015-01-31 12:28:00</td>\n",
       "      <td>Adoption</td>\n",
       "      <td>Foster</td>\n",
       "      <td>2 years</td>\n",
       "      <td>Pit Bull Mix</td>\n",
       "      <td>Blue/White</td>\n",
       "      <td>2.000000</td>\n",
       "      <td>1</td>\n",
       "      <td>0</td>\n",
       "      <td>1</td>\n",
       "      <td>0</td>\n",
       "      <td>0</td>\n",
       "      <td>1</td>\n",
       "      <td>0</td>\n",
       "      <td>0</td>\n",
       "    </tr>\n",
       "    <tr>\n",
       "      <th>A683430</th>\n",
       "      <td>NaN</td>\n",
       "      <td>2014-07-11 19:09:00</td>\n",
       "      <td>Transfer</td>\n",
       "      <td>Partner</td>\n",
       "      <td>3 weeks</td>\n",
       "      <td>Domestic Shorthair Mix</td>\n",
       "      <td>Blue Cream</td>\n",
       "      <td>0.057692</td>\n",
       "      <td>0</td>\n",
       "      <td>1</td>\n",
       "      <td>0</td>\n",
       "      <td>0</td>\n",
       "      <td>1</td>\n",
       "      <td>0</td>\n",
       "      <td>0</td>\n",
       "      <td>0</td>\n",
       "    </tr>\n",
       "    <tr>\n",
       "      <th>A667013</th>\n",
       "      <td>NaN</td>\n",
       "      <td>2013-11-15 12:52:00</td>\n",
       "      <td>Transfer</td>\n",
       "      <td>Partner</td>\n",
       "      <td>2 years</td>\n",
       "      <td>Lhasa Apso/Miniature Poodle</td>\n",
       "      <td>Tan</td>\n",
       "      <td>2.000000</td>\n",
       "      <td>0</td>\n",
       "      <td>0</td>\n",
       "      <td>1</td>\n",
       "      <td>0</td>\n",
       "      <td>0</td>\n",
       "      <td>1</td>\n",
       "      <td>0</td>\n",
       "      <td>0</td>\n",
       "    </tr>\n",
       "  </tbody>\n",
       "</table>\n",
       "</div>"
      ],
      "text/plain": [
       "             Name             DateTime      OutcomeType OutcomeSubtype  \\\n",
       "AnimalID                                                                 \n",
       "A671945   Hambone  2014-02-12 18:22:00  Return_to_owner            NaN   \n",
       "A656520     Emily  2013-10-13 12:44:00       Euthanasia      Suffering   \n",
       "A686464    Pearce  2015-01-31 12:28:00         Adoption         Foster   \n",
       "A683430       NaN  2014-07-11 19:09:00         Transfer        Partner   \n",
       "A667013       NaN  2013-11-15 12:52:00         Transfer        Partner   \n",
       "\n",
       "         AgeuponOutcome                        Breed        Color  AgeinYears  \\\n",
       "AnimalID                                                                        \n",
       "A671945          1 year        Shetland Sheepdog Mix  Brown/White    1.000000   \n",
       "A656520          1 year       Domestic Shorthair Mix  Cream Tabby    1.000000   \n",
       "A686464         2 years                 Pit Bull Mix   Blue/White    2.000000   \n",
       "A683430         3 weeks       Domestic Shorthair Mix   Blue Cream    0.057692   \n",
       "A667013         2 years  Lhasa Apso/Miniature Poodle          Tan    2.000000   \n",
       "\n",
       "          HasName  AnimalType_Cat  AnimalType_Dog  \\\n",
       "AnimalID                                            \n",
       "A671945         1               0               1   \n",
       "A656520         1               1               0   \n",
       "A686464         1               0               1   \n",
       "A683430         0               1               0   \n",
       "A667013         0               0               1   \n",
       "\n",
       "          SexuponOutcome_Intact Female  SexuponOutcome_Intact Male  \\\n",
       "AnimalID                                                             \n",
       "A671945                              0                           0   \n",
       "A656520                              0                           0   \n",
       "A686464                              0                           0   \n",
       "A683430                              0                           1   \n",
       "A667013                              0                           0   \n",
       "\n",
       "          SexuponOutcome_Neutered Male  SexuponOutcome_Spayed Female  \\\n",
       "AnimalID                                                               \n",
       "A671945                              1                             0   \n",
       "A656520                              0                             1   \n",
       "A686464                              1                             0   \n",
       "A683430                              0                             0   \n",
       "A667013                              1                             0   \n",
       "\n",
       "          SexuponOutcome_Unknown  \n",
       "AnimalID                          \n",
       "A671945                        0  \n",
       "A656520                        0  \n",
       "A686464                        0  \n",
       "A683430                        0  \n",
       "A667013                        0  "
      ]
     },
     "execution_count": 26,
     "metadata": {},
     "output_type": "execute_result"
    }
   ],
   "source": [
    "#one-hot appropriate columns\n",
    "train = pd.get_dummies(train, columns=['AnimalType','SexuponOutcome'])\n",
    "train.head()"
   ]
  },
  {
   "cell_type": "code",
   "execution_count": 27,
   "metadata": {},
   "outputs": [
    {
     "data": {
      "text/html": [
       "<div>\n",
       "<style scoped>\n",
       "    .dataframe tbody tr th:only-of-type {\n",
       "        vertical-align: middle;\n",
       "    }\n",
       "\n",
       "    .dataframe tbody tr th {\n",
       "        vertical-align: top;\n",
       "    }\n",
       "\n",
       "    .dataframe thead th {\n",
       "        text-align: right;\n",
       "    }\n",
       "</style>\n",
       "<table border=\"1\" class=\"dataframe\">\n",
       "  <thead>\n",
       "    <tr style=\"text-align: right;\">\n",
       "      <th></th>\n",
       "      <th>AgeinYears</th>\n",
       "      <th>HasName</th>\n",
       "      <th>AnimalType_Cat</th>\n",
       "      <th>AnimalType_Dog</th>\n",
       "      <th>SexuponOutcome_Intact Female</th>\n",
       "      <th>SexuponOutcome_Intact Male</th>\n",
       "      <th>SexuponOutcome_Neutered Male</th>\n",
       "      <th>SexuponOutcome_Spayed Female</th>\n",
       "      <th>SexuponOutcome_Unknown</th>\n",
       "    </tr>\n",
       "    <tr>\n",
       "      <th>AnimalID</th>\n",
       "      <th></th>\n",
       "      <th></th>\n",
       "      <th></th>\n",
       "      <th></th>\n",
       "      <th></th>\n",
       "      <th></th>\n",
       "      <th></th>\n",
       "      <th></th>\n",
       "      <th></th>\n",
       "    </tr>\n",
       "  </thead>\n",
       "  <tbody>\n",
       "    <tr>\n",
       "      <th>A671945</th>\n",
       "      <td>1.000000</td>\n",
       "      <td>1</td>\n",
       "      <td>0</td>\n",
       "      <td>1</td>\n",
       "      <td>0</td>\n",
       "      <td>0</td>\n",
       "      <td>1</td>\n",
       "      <td>0</td>\n",
       "      <td>0</td>\n",
       "    </tr>\n",
       "    <tr>\n",
       "      <th>A656520</th>\n",
       "      <td>1.000000</td>\n",
       "      <td>1</td>\n",
       "      <td>1</td>\n",
       "      <td>0</td>\n",
       "      <td>0</td>\n",
       "      <td>0</td>\n",
       "      <td>0</td>\n",
       "      <td>1</td>\n",
       "      <td>0</td>\n",
       "    </tr>\n",
       "    <tr>\n",
       "      <th>A686464</th>\n",
       "      <td>2.000000</td>\n",
       "      <td>1</td>\n",
       "      <td>0</td>\n",
       "      <td>1</td>\n",
       "      <td>0</td>\n",
       "      <td>0</td>\n",
       "      <td>1</td>\n",
       "      <td>0</td>\n",
       "      <td>0</td>\n",
       "    </tr>\n",
       "    <tr>\n",
       "      <th>A683430</th>\n",
       "      <td>0.057692</td>\n",
       "      <td>0</td>\n",
       "      <td>1</td>\n",
       "      <td>0</td>\n",
       "      <td>0</td>\n",
       "      <td>1</td>\n",
       "      <td>0</td>\n",
       "      <td>0</td>\n",
       "      <td>0</td>\n",
       "    </tr>\n",
       "    <tr>\n",
       "      <th>A667013</th>\n",
       "      <td>2.000000</td>\n",
       "      <td>0</td>\n",
       "      <td>0</td>\n",
       "      <td>1</td>\n",
       "      <td>0</td>\n",
       "      <td>0</td>\n",
       "      <td>1</td>\n",
       "      <td>0</td>\n",
       "      <td>0</td>\n",
       "    </tr>\n",
       "    <tr>\n",
       "      <th>A677334</th>\n",
       "      <td>0.083333</td>\n",
       "      <td>1</td>\n",
       "      <td>0</td>\n",
       "      <td>1</td>\n",
       "      <td>1</td>\n",
       "      <td>0</td>\n",
       "      <td>0</td>\n",
       "      <td>0</td>\n",
       "      <td>0</td>\n",
       "    </tr>\n",
       "    <tr>\n",
       "      <th>A699218</th>\n",
       "      <td>0.057692</td>\n",
       "      <td>1</td>\n",
       "      <td>1</td>\n",
       "      <td>0</td>\n",
       "      <td>0</td>\n",
       "      <td>1</td>\n",
       "      <td>0</td>\n",
       "      <td>0</td>\n",
       "      <td>0</td>\n",
       "    </tr>\n",
       "    <tr>\n",
       "      <th>A701489</th>\n",
       "      <td>0.057692</td>\n",
       "      <td>0</td>\n",
       "      <td>1</td>\n",
       "      <td>0</td>\n",
       "      <td>0</td>\n",
       "      <td>0</td>\n",
       "      <td>0</td>\n",
       "      <td>0</td>\n",
       "      <td>1</td>\n",
       "    </tr>\n",
       "    <tr>\n",
       "      <th>A671784</th>\n",
       "      <td>0.416667</td>\n",
       "      <td>1</td>\n",
       "      <td>0</td>\n",
       "      <td>1</td>\n",
       "      <td>0</td>\n",
       "      <td>0</td>\n",
       "      <td>0</td>\n",
       "      <td>1</td>\n",
       "      <td>0</td>\n",
       "    </tr>\n",
       "    <tr>\n",
       "      <th>A677747</th>\n",
       "      <td>1.000000</td>\n",
       "      <td>0</td>\n",
       "      <td>0</td>\n",
       "      <td>1</td>\n",
       "      <td>0</td>\n",
       "      <td>0</td>\n",
       "      <td>0</td>\n",
       "      <td>1</td>\n",
       "      <td>0</td>\n",
       "    </tr>\n",
       "    <tr>\n",
       "      <th>A668402</th>\n",
       "      <td>2.000000</td>\n",
       "      <td>0</td>\n",
       "      <td>1</td>\n",
       "      <td>0</td>\n",
       "      <td>0</td>\n",
       "      <td>0</td>\n",
       "      <td>0</td>\n",
       "      <td>0</td>\n",
       "      <td>1</td>\n",
       "    </tr>\n",
       "    <tr>\n",
       "      <th>A666320</th>\n",
       "      <td>2.000000</td>\n",
       "      <td>0</td>\n",
       "      <td>0</td>\n",
       "      <td>1</td>\n",
       "      <td>0</td>\n",
       "      <td>0</td>\n",
       "      <td>0</td>\n",
       "      <td>1</td>\n",
       "      <td>0</td>\n",
       "    </tr>\n",
       "    <tr>\n",
       "      <th>A684601</th>\n",
       "      <td>4.000000</td>\n",
       "      <td>1</td>\n",
       "      <td>0</td>\n",
       "      <td>1</td>\n",
       "      <td>0</td>\n",
       "      <td>0</td>\n",
       "      <td>1</td>\n",
       "      <td>0</td>\n",
       "      <td>0</td>\n",
       "    </tr>\n",
       "    <tr>\n",
       "      <th>A704702</th>\n",
       "      <td>2.000000</td>\n",
       "      <td>1</td>\n",
       "      <td>0</td>\n",
       "      <td>1</td>\n",
       "      <td>0</td>\n",
       "      <td>0</td>\n",
       "      <td>1</td>\n",
       "      <td>0</td>\n",
       "      <td>0</td>\n",
       "    </tr>\n",
       "    <tr>\n",
       "      <th>A688584</th>\n",
       "      <td>1.000000</td>\n",
       "      <td>1</td>\n",
       "      <td>0</td>\n",
       "      <td>1</td>\n",
       "      <td>0</td>\n",
       "      <td>0</td>\n",
       "      <td>1</td>\n",
       "      <td>0</td>\n",
       "      <td>0</td>\n",
       "    </tr>\n",
       "    <tr>\n",
       "      <th>A678825</th>\n",
       "      <td>0.250000</td>\n",
       "      <td>1</td>\n",
       "      <td>1</td>\n",
       "      <td>0</td>\n",
       "      <td>0</td>\n",
       "      <td>0</td>\n",
       "      <td>1</td>\n",
       "      <td>0</td>\n",
       "      <td>0</td>\n",
       "    </tr>\n",
       "    <tr>\n",
       "      <th>A678050</th>\n",
       "      <td>0.057692</td>\n",
       "      <td>0</td>\n",
       "      <td>1</td>\n",
       "      <td>0</td>\n",
       "      <td>0</td>\n",
       "      <td>1</td>\n",
       "      <td>0</td>\n",
       "      <td>0</td>\n",
       "      <td>0</td>\n",
       "    </tr>\n",
       "    <tr>\n",
       "      <th>A680028</th>\n",
       "      <td>0.038462</td>\n",
       "      <td>0</td>\n",
       "      <td>0</td>\n",
       "      <td>1</td>\n",
       "      <td>1</td>\n",
       "      <td>0</td>\n",
       "      <td>0</td>\n",
       "      <td>0</td>\n",
       "      <td>0</td>\n",
       "    </tr>\n",
       "    <tr>\n",
       "      <th>A679010</th>\n",
       "      <td>2.000000</td>\n",
       "      <td>1</td>\n",
       "      <td>1</td>\n",
       "      <td>0</td>\n",
       "      <td>1</td>\n",
       "      <td>0</td>\n",
       "      <td>0</td>\n",
       "      <td>0</td>\n",
       "      <td>0</td>\n",
       "    </tr>\n",
       "    <tr>\n",
       "      <th>A684787</th>\n",
       "      <td>1.000000</td>\n",
       "      <td>1</td>\n",
       "      <td>0</td>\n",
       "      <td>1</td>\n",
       "      <td>0</td>\n",
       "      <td>0</td>\n",
       "      <td>1</td>\n",
       "      <td>0</td>\n",
       "      <td>0</td>\n",
       "    </tr>\n",
       "  </tbody>\n",
       "</table>\n",
       "</div>"
      ],
      "text/plain": [
       "          AgeinYears  HasName  AnimalType_Cat  AnimalType_Dog  \\\n",
       "AnimalID                                                        \n",
       "A671945     1.000000        1               0               1   \n",
       "A656520     1.000000        1               1               0   \n",
       "A686464     2.000000        1               0               1   \n",
       "A683430     0.057692        0               1               0   \n",
       "A667013     2.000000        0               0               1   \n",
       "A677334     0.083333        1               0               1   \n",
       "A699218     0.057692        1               1               0   \n",
       "A701489     0.057692        0               1               0   \n",
       "A671784     0.416667        1               0               1   \n",
       "A677747     1.000000        0               0               1   \n",
       "A668402     2.000000        0               1               0   \n",
       "A666320     2.000000        0               0               1   \n",
       "A684601     4.000000        1               0               1   \n",
       "A704702     2.000000        1               0               1   \n",
       "A688584     1.000000        1               0               1   \n",
       "A678825     0.250000        1               1               0   \n",
       "A678050     0.057692        0               1               0   \n",
       "A680028     0.038462        0               0               1   \n",
       "A679010     2.000000        1               1               0   \n",
       "A684787     1.000000        1               0               1   \n",
       "\n",
       "          SexuponOutcome_Intact Female  SexuponOutcome_Intact Male  \\\n",
       "AnimalID                                                             \n",
       "A671945                              0                           0   \n",
       "A656520                              0                           0   \n",
       "A686464                              0                           0   \n",
       "A683430                              0                           1   \n",
       "A667013                              0                           0   \n",
       "A677334                              1                           0   \n",
       "A699218                              0                           1   \n",
       "A701489                              0                           0   \n",
       "A671784                              0                           0   \n",
       "A677747                              0                           0   \n",
       "A668402                              0                           0   \n",
       "A666320                              0                           0   \n",
       "A684601                              0                           0   \n",
       "A704702                              0                           0   \n",
       "A688584                              0                           0   \n",
       "A678825                              0                           0   \n",
       "A678050                              0                           1   \n",
       "A680028                              1                           0   \n",
       "A679010                              1                           0   \n",
       "A684787                              0                           0   \n",
       "\n",
       "          SexuponOutcome_Neutered Male  SexuponOutcome_Spayed Female  \\\n",
       "AnimalID                                                               \n",
       "A671945                              1                             0   \n",
       "A656520                              0                             1   \n",
       "A686464                              1                             0   \n",
       "A683430                              0                             0   \n",
       "A667013                              1                             0   \n",
       "A677334                              0                             0   \n",
       "A699218                              0                             0   \n",
       "A701489                              0                             0   \n",
       "A671784                              0                             1   \n",
       "A677747                              0                             1   \n",
       "A668402                              0                             0   \n",
       "A666320                              0                             1   \n",
       "A684601                              1                             0   \n",
       "A704702                              1                             0   \n",
       "A688584                              1                             0   \n",
       "A678825                              1                             0   \n",
       "A678050                              0                             0   \n",
       "A680028                              0                             0   \n",
       "A679010                              0                             0   \n",
       "A684787                              1                             0   \n",
       "\n",
       "          SexuponOutcome_Unknown  \n",
       "AnimalID                          \n",
       "A671945                        0  \n",
       "A656520                        0  \n",
       "A686464                        0  \n",
       "A683430                        0  \n",
       "A667013                        0  \n",
       "A677334                        0  \n",
       "A699218                        0  \n",
       "A701489                        1  \n",
       "A671784                        0  \n",
       "A677747                        0  \n",
       "A668402                        1  \n",
       "A666320                        0  \n",
       "A684601                        0  \n",
       "A704702                        0  \n",
       "A688584                        0  \n",
       "A678825                        0  \n",
       "A678050                        0  \n",
       "A680028                        0  \n",
       "A679010                        0  \n",
       "A684787                        0  "
      ]
     },
     "execution_count": 27,
     "metadata": {},
     "output_type": "execute_result"
    }
   ],
   "source": [
    "#separeate features and outcomes\n",
    "train_features = train.drop([\"Name\", \"DateTime\", \"OutcomeType\", \"OutcomeSubtype\", \"AgeuponOutcome\", 'Breed', 'Color'], axis=1)\n",
    "train_features.head(20)"
   ]
  },
  {
   "cell_type": "code",
   "execution_count": 28,
   "metadata": {},
   "outputs": [
    {
     "name": "stdout",
     "output_type": "stream",
     "text": [
      "[0 1 2 ... 2 3 3]\n"
     ]
    }
   ],
   "source": [
    "train_outcomes = pd.factorize(train[\"OutcomeType\"])[0]\n",
    "#train_outcomes = pd.get_dummies(train_outcomes, columns=['OutcomeType'])\n",
    "print(train_outcomes)"
   ]
  },
  {
   "cell_type": "code",
   "execution_count": 29,
   "metadata": {},
   "outputs": [],
   "source": [
    "train_features = train_features.fillna(value=0)"
   ]
  },
  {
   "cell_type": "code",
   "execution_count": 30,
   "metadata": {},
   "outputs": [
    {
     "data": {
      "text/html": [
       "<div>\n",
       "<style scoped>\n",
       "    .dataframe tbody tr th:only-of-type {\n",
       "        vertical-align: middle;\n",
       "    }\n",
       "\n",
       "    .dataframe tbody tr th {\n",
       "        vertical-align: top;\n",
       "    }\n",
       "\n",
       "    .dataframe thead th {\n",
       "        text-align: right;\n",
       "    }\n",
       "</style>\n",
       "<table border=\"1\" class=\"dataframe\">\n",
       "  <thead>\n",
       "    <tr style=\"text-align: right;\">\n",
       "      <th></th>\n",
       "      <th>ID</th>\n",
       "      <th>Name</th>\n",
       "      <th>DateTime</th>\n",
       "      <th>AnimalType</th>\n",
       "      <th>SexuponOutcome</th>\n",
       "      <th>AgeuponOutcome</th>\n",
       "      <th>Breed</th>\n",
       "      <th>Color</th>\n",
       "    </tr>\n",
       "  </thead>\n",
       "  <tbody>\n",
       "    <tr>\n",
       "      <th>0</th>\n",
       "      <td>1</td>\n",
       "      <td>Summer</td>\n",
       "      <td>2015-10-12 12:15:00</td>\n",
       "      <td>Dog</td>\n",
       "      <td>Intact Female</td>\n",
       "      <td>10 months</td>\n",
       "      <td>Labrador Retriever Mix</td>\n",
       "      <td>Red/White</td>\n",
       "    </tr>\n",
       "    <tr>\n",
       "      <th>1</th>\n",
       "      <td>2</td>\n",
       "      <td>Cheyenne</td>\n",
       "      <td>2014-07-26 17:59:00</td>\n",
       "      <td>Dog</td>\n",
       "      <td>Spayed Female</td>\n",
       "      <td>2 years</td>\n",
       "      <td>German Shepherd/Siberian Husky</td>\n",
       "      <td>Black/Tan</td>\n",
       "    </tr>\n",
       "    <tr>\n",
       "      <th>2</th>\n",
       "      <td>3</td>\n",
       "      <td>Gus</td>\n",
       "      <td>2016-01-13 12:20:00</td>\n",
       "      <td>Cat</td>\n",
       "      <td>Neutered Male</td>\n",
       "      <td>1 year</td>\n",
       "      <td>Domestic Shorthair Mix</td>\n",
       "      <td>Brown Tabby</td>\n",
       "    </tr>\n",
       "    <tr>\n",
       "      <th>3</th>\n",
       "      <td>4</td>\n",
       "      <td>Pongo</td>\n",
       "      <td>2013-12-28 18:12:00</td>\n",
       "      <td>Dog</td>\n",
       "      <td>Intact Male</td>\n",
       "      <td>4 months</td>\n",
       "      <td>Collie Smooth Mix</td>\n",
       "      <td>Tricolor</td>\n",
       "    </tr>\n",
       "    <tr>\n",
       "      <th>4</th>\n",
       "      <td>5</td>\n",
       "      <td>Skooter</td>\n",
       "      <td>2015-09-24 17:59:00</td>\n",
       "      <td>Dog</td>\n",
       "      <td>Neutered Male</td>\n",
       "      <td>2 years</td>\n",
       "      <td>Miniature Poodle Mix</td>\n",
       "      <td>White</td>\n",
       "    </tr>\n",
       "    <tr>\n",
       "      <th>5</th>\n",
       "      <td>6</td>\n",
       "      <td>Beau</td>\n",
       "      <td>2015-06-23 11:17:00</td>\n",
       "      <td>Dog</td>\n",
       "      <td>Neutered Male</td>\n",
       "      <td>3 years</td>\n",
       "      <td>Beagle Mix</td>\n",
       "      <td>Brown/White</td>\n",
       "    </tr>\n",
       "    <tr>\n",
       "      <th>6</th>\n",
       "      <td>7</td>\n",
       "      <td>Bobo</td>\n",
       "      <td>2014-03-12 09:45:00</td>\n",
       "      <td>Cat</td>\n",
       "      <td>Neutered Male</td>\n",
       "      <td>13 years</td>\n",
       "      <td>Domestic Medium Hair Mix</td>\n",
       "      <td>Brown Tabby/White</td>\n",
       "    </tr>\n",
       "    <tr>\n",
       "      <th>7</th>\n",
       "      <td>8</td>\n",
       "      <td>Abby</td>\n",
       "      <td>2014-06-25 08:27:00</td>\n",
       "      <td>Cat</td>\n",
       "      <td>Spayed Female</td>\n",
       "      <td>6 months</td>\n",
       "      <td>Domestic Shorthair Mix</td>\n",
       "      <td>Brown Tabby</td>\n",
       "    </tr>\n",
       "    <tr>\n",
       "      <th>8</th>\n",
       "      <td>9</td>\n",
       "      <td>Ruby Grace</td>\n",
       "      <td>2014-11-12 18:05:00</td>\n",
       "      <td>Dog</td>\n",
       "      <td>Spayed Female</td>\n",
       "      <td>3 months</td>\n",
       "      <td>Cairn Terrier</td>\n",
       "      <td>Black/Cream</td>\n",
       "    </tr>\n",
       "    <tr>\n",
       "      <th>9</th>\n",
       "      <td>10</td>\n",
       "      <td>Ruby</td>\n",
       "      <td>2014-04-07 17:41:00</td>\n",
       "      <td>Dog</td>\n",
       "      <td>Spayed Female</td>\n",
       "      <td>1 year</td>\n",
       "      <td>Pit Bull Mix</td>\n",
       "      <td>Brown/White</td>\n",
       "    </tr>\n",
       "  </tbody>\n",
       "</table>\n",
       "</div>"
      ],
      "text/plain": [
       "   ID        Name             DateTime AnimalType SexuponOutcome  \\\n",
       "0   1      Summer  2015-10-12 12:15:00        Dog  Intact Female   \n",
       "1   2    Cheyenne  2014-07-26 17:59:00        Dog  Spayed Female   \n",
       "2   3         Gus  2016-01-13 12:20:00        Cat  Neutered Male   \n",
       "3   4       Pongo  2013-12-28 18:12:00        Dog    Intact Male   \n",
       "4   5     Skooter  2015-09-24 17:59:00        Dog  Neutered Male   \n",
       "5   6        Beau  2015-06-23 11:17:00        Dog  Neutered Male   \n",
       "6   7        Bobo  2014-03-12 09:45:00        Cat  Neutered Male   \n",
       "7   8        Abby  2014-06-25 08:27:00        Cat  Spayed Female   \n",
       "8   9  Ruby Grace  2014-11-12 18:05:00        Dog  Spayed Female   \n",
       "9  10        Ruby  2014-04-07 17:41:00        Dog  Spayed Female   \n",
       "\n",
       "  AgeuponOutcome                           Breed              Color  \n",
       "0      10 months          Labrador Retriever Mix          Red/White  \n",
       "1        2 years  German Shepherd/Siberian Husky          Black/Tan  \n",
       "2         1 year          Domestic Shorthair Mix        Brown Tabby  \n",
       "3       4 months               Collie Smooth Mix           Tricolor  \n",
       "4        2 years            Miniature Poodle Mix              White  \n",
       "5        3 years                      Beagle Mix        Brown/White  \n",
       "6       13 years        Domestic Medium Hair Mix  Brown Tabby/White  \n",
       "7       6 months          Domestic Shorthair Mix        Brown Tabby  \n",
       "8       3 months                   Cairn Terrier        Black/Cream  \n",
       "9         1 year                    Pit Bull Mix        Brown/White  "
      ]
     },
     "execution_count": 30,
     "metadata": {},
     "output_type": "execute_result"
    }
   ],
   "source": [
    "# Load in test data\n",
    "test = pd.read_csv('./test_data/test.csv')\n",
    "\n",
    "#Display top 10 datapoints in training data\n",
    "test.head(n=10)"
   ]
  },
  {
   "cell_type": "code",
   "execution_count": 31,
   "metadata": {},
   "outputs": [
    {
     "data": {
      "text/html": [
       "<div>\n",
       "<style scoped>\n",
       "    .dataframe tbody tr th:only-of-type {\n",
       "        vertical-align: middle;\n",
       "    }\n",
       "\n",
       "    .dataframe tbody tr th {\n",
       "        vertical-align: top;\n",
       "    }\n",
       "\n",
       "    .dataframe thead th {\n",
       "        text-align: right;\n",
       "    }\n",
       "</style>\n",
       "<table border=\"1\" class=\"dataframe\">\n",
       "  <thead>\n",
       "    <tr style=\"text-align: right;\">\n",
       "      <th></th>\n",
       "      <th>AgeinYears</th>\n",
       "      <th>HasName</th>\n",
       "      <th>AnimalType_Cat</th>\n",
       "      <th>AnimalType_Dog</th>\n",
       "      <th>SexuponOutcome_Intact Female</th>\n",
       "      <th>SexuponOutcome_Intact Male</th>\n",
       "      <th>SexuponOutcome_Neutered Male</th>\n",
       "      <th>SexuponOutcome_Spayed Female</th>\n",
       "      <th>SexuponOutcome_Unknown</th>\n",
       "    </tr>\n",
       "  </thead>\n",
       "  <tbody>\n",
       "    <tr>\n",
       "      <th>0</th>\n",
       "      <td>0.833333</td>\n",
       "      <td>1</td>\n",
       "      <td>0</td>\n",
       "      <td>1</td>\n",
       "      <td>1</td>\n",
       "      <td>0</td>\n",
       "      <td>0</td>\n",
       "      <td>0</td>\n",
       "      <td>0</td>\n",
       "    </tr>\n",
       "    <tr>\n",
       "      <th>1</th>\n",
       "      <td>2.000000</td>\n",
       "      <td>1</td>\n",
       "      <td>0</td>\n",
       "      <td>1</td>\n",
       "      <td>0</td>\n",
       "      <td>0</td>\n",
       "      <td>0</td>\n",
       "      <td>1</td>\n",
       "      <td>0</td>\n",
       "    </tr>\n",
       "    <tr>\n",
       "      <th>2</th>\n",
       "      <td>1.000000</td>\n",
       "      <td>1</td>\n",
       "      <td>1</td>\n",
       "      <td>0</td>\n",
       "      <td>0</td>\n",
       "      <td>0</td>\n",
       "      <td>1</td>\n",
       "      <td>0</td>\n",
       "      <td>0</td>\n",
       "    </tr>\n",
       "    <tr>\n",
       "      <th>3</th>\n",
       "      <td>0.333333</td>\n",
       "      <td>1</td>\n",
       "      <td>0</td>\n",
       "      <td>1</td>\n",
       "      <td>0</td>\n",
       "      <td>1</td>\n",
       "      <td>0</td>\n",
       "      <td>0</td>\n",
       "      <td>0</td>\n",
       "    </tr>\n",
       "    <tr>\n",
       "      <th>4</th>\n",
       "      <td>2.000000</td>\n",
       "      <td>1</td>\n",
       "      <td>0</td>\n",
       "      <td>1</td>\n",
       "      <td>0</td>\n",
       "      <td>0</td>\n",
       "      <td>1</td>\n",
       "      <td>0</td>\n",
       "      <td>0</td>\n",
       "    </tr>\n",
       "    <tr>\n",
       "      <th>5</th>\n",
       "      <td>3.000000</td>\n",
       "      <td>1</td>\n",
       "      <td>0</td>\n",
       "      <td>1</td>\n",
       "      <td>0</td>\n",
       "      <td>0</td>\n",
       "      <td>1</td>\n",
       "      <td>0</td>\n",
       "      <td>0</td>\n",
       "    </tr>\n",
       "    <tr>\n",
       "      <th>6</th>\n",
       "      <td>13.000000</td>\n",
       "      <td>1</td>\n",
       "      <td>1</td>\n",
       "      <td>0</td>\n",
       "      <td>0</td>\n",
       "      <td>0</td>\n",
       "      <td>1</td>\n",
       "      <td>0</td>\n",
       "      <td>0</td>\n",
       "    </tr>\n",
       "    <tr>\n",
       "      <th>7</th>\n",
       "      <td>0.500000</td>\n",
       "      <td>1</td>\n",
       "      <td>1</td>\n",
       "      <td>0</td>\n",
       "      <td>0</td>\n",
       "      <td>0</td>\n",
       "      <td>0</td>\n",
       "      <td>1</td>\n",
       "      <td>0</td>\n",
       "    </tr>\n",
       "    <tr>\n",
       "      <th>8</th>\n",
       "      <td>0.250000</td>\n",
       "      <td>1</td>\n",
       "      <td>0</td>\n",
       "      <td>1</td>\n",
       "      <td>0</td>\n",
       "      <td>0</td>\n",
       "      <td>0</td>\n",
       "      <td>1</td>\n",
       "      <td>0</td>\n",
       "    </tr>\n",
       "    <tr>\n",
       "      <th>9</th>\n",
       "      <td>1.000000</td>\n",
       "      <td>1</td>\n",
       "      <td>0</td>\n",
       "      <td>1</td>\n",
       "      <td>0</td>\n",
       "      <td>0</td>\n",
       "      <td>0</td>\n",
       "      <td>1</td>\n",
       "      <td>0</td>\n",
       "    </tr>\n",
       "    <tr>\n",
       "      <th>10</th>\n",
       "      <td>0.416667</td>\n",
       "      <td>1</td>\n",
       "      <td>0</td>\n",
       "      <td>1</td>\n",
       "      <td>0</td>\n",
       "      <td>0</td>\n",
       "      <td>0</td>\n",
       "      <td>1</td>\n",
       "      <td>0</td>\n",
       "    </tr>\n",
       "    <tr>\n",
       "      <th>11</th>\n",
       "      <td>2.000000</td>\n",
       "      <td>1</td>\n",
       "      <td>0</td>\n",
       "      <td>1</td>\n",
       "      <td>1</td>\n",
       "      <td>0</td>\n",
       "      <td>0</td>\n",
       "      <td>0</td>\n",
       "      <td>0</td>\n",
       "    </tr>\n",
       "    <tr>\n",
       "      <th>12</th>\n",
       "      <td>0.500000</td>\n",
       "      <td>1</td>\n",
       "      <td>0</td>\n",
       "      <td>1</td>\n",
       "      <td>0</td>\n",
       "      <td>0</td>\n",
       "      <td>0</td>\n",
       "      <td>1</td>\n",
       "      <td>0</td>\n",
       "    </tr>\n",
       "    <tr>\n",
       "      <th>13</th>\n",
       "      <td>2.000000</td>\n",
       "      <td>0</td>\n",
       "      <td>0</td>\n",
       "      <td>1</td>\n",
       "      <td>0</td>\n",
       "      <td>0</td>\n",
       "      <td>1</td>\n",
       "      <td>0</td>\n",
       "      <td>0</td>\n",
       "    </tr>\n",
       "    <tr>\n",
       "      <th>14</th>\n",
       "      <td>1.000000</td>\n",
       "      <td>1</td>\n",
       "      <td>0</td>\n",
       "      <td>1</td>\n",
       "      <td>0</td>\n",
       "      <td>0</td>\n",
       "      <td>1</td>\n",
       "      <td>0</td>\n",
       "      <td>0</td>\n",
       "    </tr>\n",
       "    <tr>\n",
       "      <th>15</th>\n",
       "      <td>0.333333</td>\n",
       "      <td>1</td>\n",
       "      <td>0</td>\n",
       "      <td>1</td>\n",
       "      <td>0</td>\n",
       "      <td>0</td>\n",
       "      <td>0</td>\n",
       "      <td>1</td>\n",
       "      <td>0</td>\n",
       "    </tr>\n",
       "    <tr>\n",
       "      <th>16</th>\n",
       "      <td>5.000000</td>\n",
       "      <td>1</td>\n",
       "      <td>0</td>\n",
       "      <td>1</td>\n",
       "      <td>0</td>\n",
       "      <td>0</td>\n",
       "      <td>1</td>\n",
       "      <td>0</td>\n",
       "      <td>0</td>\n",
       "    </tr>\n",
       "    <tr>\n",
       "      <th>17</th>\n",
       "      <td>3.000000</td>\n",
       "      <td>1</td>\n",
       "      <td>0</td>\n",
       "      <td>1</td>\n",
       "      <td>0</td>\n",
       "      <td>0</td>\n",
       "      <td>1</td>\n",
       "      <td>0</td>\n",
       "      <td>0</td>\n",
       "    </tr>\n",
       "    <tr>\n",
       "      <th>18</th>\n",
       "      <td>3.000000</td>\n",
       "      <td>1</td>\n",
       "      <td>1</td>\n",
       "      <td>0</td>\n",
       "      <td>0</td>\n",
       "      <td>0</td>\n",
       "      <td>0</td>\n",
       "      <td>1</td>\n",
       "      <td>0</td>\n",
       "    </tr>\n",
       "    <tr>\n",
       "      <th>19</th>\n",
       "      <td>4.000000</td>\n",
       "      <td>0</td>\n",
       "      <td>1</td>\n",
       "      <td>0</td>\n",
       "      <td>1</td>\n",
       "      <td>0</td>\n",
       "      <td>0</td>\n",
       "      <td>0</td>\n",
       "      <td>0</td>\n",
       "    </tr>\n",
       "  </tbody>\n",
       "</table>\n",
       "</div>"
      ],
      "text/plain": [
       "    AgeinYears  HasName  AnimalType_Cat  AnimalType_Dog  \\\n",
       "0     0.833333        1               0               1   \n",
       "1     2.000000        1               0               1   \n",
       "2     1.000000        1               1               0   \n",
       "3     0.333333        1               0               1   \n",
       "4     2.000000        1               0               1   \n",
       "5     3.000000        1               0               1   \n",
       "6    13.000000        1               1               0   \n",
       "7     0.500000        1               1               0   \n",
       "8     0.250000        1               0               1   \n",
       "9     1.000000        1               0               1   \n",
       "10    0.416667        1               0               1   \n",
       "11    2.000000        1               0               1   \n",
       "12    0.500000        1               0               1   \n",
       "13    2.000000        0               0               1   \n",
       "14    1.000000        1               0               1   \n",
       "15    0.333333        1               0               1   \n",
       "16    5.000000        1               0               1   \n",
       "17    3.000000        1               0               1   \n",
       "18    3.000000        1               1               0   \n",
       "19    4.000000        0               1               0   \n",
       "\n",
       "    SexuponOutcome_Intact Female  SexuponOutcome_Intact Male  \\\n",
       "0                              1                           0   \n",
       "1                              0                           0   \n",
       "2                              0                           0   \n",
       "3                              0                           1   \n",
       "4                              0                           0   \n",
       "5                              0                           0   \n",
       "6                              0                           0   \n",
       "7                              0                           0   \n",
       "8                              0                           0   \n",
       "9                              0                           0   \n",
       "10                             0                           0   \n",
       "11                             1                           0   \n",
       "12                             0                           0   \n",
       "13                             0                           0   \n",
       "14                             0                           0   \n",
       "15                             0                           0   \n",
       "16                             0                           0   \n",
       "17                             0                           0   \n",
       "18                             0                           0   \n",
       "19                             1                           0   \n",
       "\n",
       "    SexuponOutcome_Neutered Male  SexuponOutcome_Spayed Female  \\\n",
       "0                              0                             0   \n",
       "1                              0                             1   \n",
       "2                              1                             0   \n",
       "3                              0                             0   \n",
       "4                              1                             0   \n",
       "5                              1                             0   \n",
       "6                              1                             0   \n",
       "7                              0                             1   \n",
       "8                              0                             1   \n",
       "9                              0                             1   \n",
       "10                             0                             1   \n",
       "11                             0                             0   \n",
       "12                             0                             1   \n",
       "13                             1                             0   \n",
       "14                             1                             0   \n",
       "15                             0                             1   \n",
       "16                             1                             0   \n",
       "17                             1                             0   \n",
       "18                             0                             1   \n",
       "19                             0                             0   \n",
       "\n",
       "    SexuponOutcome_Unknown  \n",
       "0                        0  \n",
       "1                        0  \n",
       "2                        0  \n",
       "3                        0  \n",
       "4                        0  \n",
       "5                        0  \n",
       "6                        0  \n",
       "7                        0  \n",
       "8                        0  \n",
       "9                        0  \n",
       "10                       0  \n",
       "11                       0  \n",
       "12                       0  \n",
       "13                       0  \n",
       "14                       0  \n",
       "15                       0  \n",
       "16                       0  \n",
       "17                       0  \n",
       "18                       0  \n",
       "19                       0  "
      ]
     },
     "execution_count": 31,
     "metadata": {},
     "output_type": "execute_result"
    }
   ],
   "source": [
    "test['AgeinYears'] = test['AgeuponOutcome'].map(age_map)\n",
    "test['HasName'] = test.apply(nameTrueFalse, axis=1)\n",
    "\n",
    "#one-hot appropriate columns\n",
    "test = pd.get_dummies(test, columns=['AnimalType','SexuponOutcome'])\n",
    "\n",
    "#separeate features and outcomes\n",
    "test_features = test.drop([\"ID\", \"Name\", \"DateTime\", \"AgeuponOutcome\", 'Breed', 'Color'], axis=1)\n",
    "test_features.head(20)\n"
   ]
  },
  {
   "cell_type": "code",
   "execution_count": null,
   "metadata": {},
   "outputs": [],
   "source": []
  },
  {
   "cell_type": "code",
   "execution_count": 32,
   "metadata": {},
   "outputs": [],
   "source": [
    "test_features = test_features.fillna(value=0)"
   ]
  },
  {
   "cell_type": "markdown",
   "metadata": {},
   "source": [
    "## RANDOM FOREST CLASSIFIER"
   ]
  },
  {
   "cell_type": "code",
   "execution_count": 125,
   "metadata": {},
   "outputs": [
    {
     "data": {
      "text/plain": [
       "RandomForestClassifier(bootstrap=True, class_weight=None, criterion='gini',\n",
       "            max_depth=2, max_features='auto', max_leaf_nodes=None,\n",
       "            min_impurity_decrease=0.0, min_impurity_split=None,\n",
       "            min_samples_leaf=1, min_samples_split=2,\n",
       "            min_weight_fraction_leaf=0.0, n_estimators=10, n_jobs=1,\n",
       "            oob_score=False, random_state=0, verbose=0, warm_start=False)"
      ]
     },
     "execution_count": 125,
     "metadata": {},
     "output_type": "execute_result"
    }
   ],
   "source": [
    "#prepare random forest classifier\n",
    "from sklearn.ensemble import RandomForestClassifier\n",
    "\n",
    "clf_RFC = RandomForestClassifier(max_depth=2, random_state=0)\n",
    "clf_RFC.fit(train_features, train_outcomes)"
   ]
  },
  {
   "cell_type": "markdown",
   "metadata": {},
   "source": []
  },
  {
   "cell_type": "code",
   "execution_count": 126,
   "metadata": {},
   "outputs": [],
   "source": [
    "results = clf_RFC.predict_proba(test_features)\n",
    "results = np.array(results)"
   ]
  },
  {
   "cell_type": "code",
   "execution_count": 127,
   "metadata": {},
   "outputs": [
    {
     "data": {
      "text/html": [
       "<div>\n",
       "<style scoped>\n",
       "    .dataframe tbody tr th:only-of-type {\n",
       "        vertical-align: middle;\n",
       "    }\n",
       "\n",
       "    .dataframe tbody tr th {\n",
       "        vertical-align: top;\n",
       "    }\n",
       "\n",
       "    .dataframe thead th {\n",
       "        text-align: right;\n",
       "    }\n",
       "</style>\n",
       "<table border=\"1\" class=\"dataframe\">\n",
       "  <thead>\n",
       "    <tr style=\"text-align: right;\">\n",
       "      <th></th>\n",
       "      <th>ID</th>\n",
       "      <th>Adoption</th>\n",
       "      <th>Died</th>\n",
       "      <th>Euthanasia</th>\n",
       "      <th>Return_to_owner</th>\n",
       "      <th>Transfer</th>\n",
       "    </tr>\n",
       "  </thead>\n",
       "  <tbody>\n",
       "    <tr>\n",
       "      <th>0</th>\n",
       "      <td>1</td>\n",
       "      <td>0.157907</td>\n",
       "      <td>0.092768</td>\n",
       "      <td>0.166062</td>\n",
       "      <td>0.570510</td>\n",
       "      <td>0.012753</td>\n",
       "    </tr>\n",
       "    <tr>\n",
       "      <th>1</th>\n",
       "      <td>2</td>\n",
       "      <td>0.252998</td>\n",
       "      <td>0.041331</td>\n",
       "      <td>0.482406</td>\n",
       "      <td>0.220243</td>\n",
       "      <td>0.003022</td>\n",
       "    </tr>\n",
       "    <tr>\n",
       "      <th>2</th>\n",
       "      <td>3</td>\n",
       "      <td>0.189785</td>\n",
       "      <td>0.041768</td>\n",
       "      <td>0.506082</td>\n",
       "      <td>0.257086</td>\n",
       "      <td>0.005280</td>\n",
       "    </tr>\n",
       "    <tr>\n",
       "      <th>3</th>\n",
       "      <td>4</td>\n",
       "      <td>0.220239</td>\n",
       "      <td>0.065194</td>\n",
       "      <td>0.375309</td>\n",
       "      <td>0.331495</td>\n",
       "      <td>0.007762</td>\n",
       "    </tr>\n",
       "    <tr>\n",
       "      <th>4</th>\n",
       "      <td>5</td>\n",
       "      <td>0.238790</td>\n",
       "      <td>0.046330</td>\n",
       "      <td>0.472985</td>\n",
       "      <td>0.238163</td>\n",
       "      <td>0.003732</td>\n",
       "    </tr>\n",
       "  </tbody>\n",
       "</table>\n",
       "</div>"
      ],
      "text/plain": [
       "   ID  Adoption      Died  Euthanasia  Return_to_owner  Transfer\n",
       "0   1  0.157907  0.092768    0.166062         0.570510  0.012753\n",
       "1   2  0.252998  0.041331    0.482406         0.220243  0.003022\n",
       "2   3  0.189785  0.041768    0.506082         0.257086  0.005280\n",
       "3   4  0.220239  0.065194    0.375309         0.331495  0.007762\n",
       "4   5  0.238790  0.046330    0.472985         0.238163  0.003732"
      ]
     },
     "execution_count": 127,
     "metadata": {},
     "output_type": "execute_result"
    }
   ],
   "source": [
    "results_form = pd.DataFrame(results)\n",
    "results_form.columns = ['Adoption', 'Died', 'Euthanasia', 'Return_to_owner', 'Transfer']\n",
    "results_form['ID'] = test['ID']\n",
    "cols = results_form.columns.tolist()\n",
    "cols = cols[-1:] + cols[:-1]\n",
    "results_form = results_form[cols]\n",
    "results_form.head()"
   ]
  },
  {
   "cell_type": "code",
   "execution_count": 128,
   "metadata": {},
   "outputs": [],
   "source": [
    "results_form.to_csv('results_RFC.csv', index=False)\n",
    "\n",
    "##Score = 2.61904"
   ]
  },
  {
   "cell_type": "markdown",
   "metadata": {},
   "source": [
    "## RFC W/ DROPPED FEATURES"
   ]
  },
  {
   "cell_type": "code",
   "execution_count": 129,
   "metadata": {},
   "outputs": [
    {
     "data": {
      "text/plain": [
       "array([0.2266286 , 0.23534834, 0.01710011, 0.02282132, 0.25439124,\n",
       "       0.05150414, 0.10892211, 0.08328414, 0.        ])"
      ]
     },
     "execution_count": 129,
     "metadata": {},
     "output_type": "execute_result"
    }
   ],
   "source": [
    "clf_RFC.feature_importances_"
   ]
  },
  {
   "cell_type": "code",
   "execution_count": 122,
   "metadata": {},
   "outputs": [
    {
     "data": {
      "text/html": [
       "<div>\n",
       "<style scoped>\n",
       "    .dataframe tbody tr th:only-of-type {\n",
       "        vertical-align: middle;\n",
       "    }\n",
       "\n",
       "    .dataframe tbody tr th {\n",
       "        vertical-align: top;\n",
       "    }\n",
       "\n",
       "    .dataframe thead th {\n",
       "        text-align: right;\n",
       "    }\n",
       "</style>\n",
       "<table border=\"1\" class=\"dataframe\">\n",
       "  <thead>\n",
       "    <tr style=\"text-align: right;\">\n",
       "      <th></th>\n",
       "      <th>AgeinYears</th>\n",
       "      <th>HasName</th>\n",
       "      <th>SexuponOutcome_Intact Female</th>\n",
       "      <th>SexuponOutcome_Neutered Male</th>\n",
       "    </tr>\n",
       "    <tr>\n",
       "      <th>AnimalID</th>\n",
       "      <th></th>\n",
       "      <th></th>\n",
       "      <th></th>\n",
       "      <th></th>\n",
       "    </tr>\n",
       "  </thead>\n",
       "  <tbody>\n",
       "    <tr>\n",
       "      <th>A671945</th>\n",
       "      <td>1.000000</td>\n",
       "      <td>1</td>\n",
       "      <td>0</td>\n",
       "      <td>1</td>\n",
       "    </tr>\n",
       "    <tr>\n",
       "      <th>A656520</th>\n",
       "      <td>1.000000</td>\n",
       "      <td>1</td>\n",
       "      <td>0</td>\n",
       "      <td>0</td>\n",
       "    </tr>\n",
       "    <tr>\n",
       "      <th>A686464</th>\n",
       "      <td>2.000000</td>\n",
       "      <td>1</td>\n",
       "      <td>0</td>\n",
       "      <td>1</td>\n",
       "    </tr>\n",
       "    <tr>\n",
       "      <th>A683430</th>\n",
       "      <td>0.057692</td>\n",
       "      <td>0</td>\n",
       "      <td>0</td>\n",
       "      <td>0</td>\n",
       "    </tr>\n",
       "    <tr>\n",
       "      <th>A667013</th>\n",
       "      <td>2.000000</td>\n",
       "      <td>0</td>\n",
       "      <td>0</td>\n",
       "      <td>1</td>\n",
       "    </tr>\n",
       "  </tbody>\n",
       "</table>\n",
       "</div>"
      ],
      "text/plain": [
       "          AgeinYears  HasName  SexuponOutcome_Intact Female  \\\n",
       "AnimalID                                                      \n",
       "A671945     1.000000        1                             0   \n",
       "A656520     1.000000        1                             0   \n",
       "A686464     2.000000        1                             0   \n",
       "A683430     0.057692        0                             0   \n",
       "A667013     2.000000        0                             0   \n",
       "\n",
       "          SexuponOutcome_Neutered Male  \n",
       "AnimalID                                \n",
       "A671945                              1  \n",
       "A656520                              0  \n",
       "A686464                              1  \n",
       "A683430                              0  \n",
       "A667013                              1  "
      ]
     },
     "execution_count": 122,
     "metadata": {},
     "output_type": "execute_result"
    }
   ],
   "source": [
    "train_features_mod = train_features[['AgeinYears', 'HasName', 'SexuponOutcome_Intact Female', 'SexuponOutcome_Neutered Male']].copy()\n",
    "train_features_mod.head()"
   ]
  },
  {
   "cell_type": "code",
   "execution_count": 123,
   "metadata": {},
   "outputs": [
    {
     "data": {
      "text/plain": [
       "RandomForestClassifier(bootstrap=True, class_weight=None, criterion='gini',\n",
       "            max_depth=2, max_features='auto', max_leaf_nodes=None,\n",
       "            min_impurity_decrease=0.0, min_impurity_split=None,\n",
       "            min_samples_leaf=1, min_samples_split=2,\n",
       "            min_weight_fraction_leaf=0.0, n_estimators=10, n_jobs=1,\n",
       "            oob_score=False, random_state=0, verbose=0, warm_start=False)"
      ]
     },
     "execution_count": 123,
     "metadata": {},
     "output_type": "execute_result"
    }
   ],
   "source": [
    "clf_RFC_drop = clf_RFC\n",
    "clf_RFC_drop.fit(train_features_mod, train_outcomes)"
   ]
  },
  {
   "cell_type": "code",
   "execution_count": 92,
   "metadata": {},
   "outputs": [
    {
     "data": {
      "text/plain": [
       "array([0.46754858, 0.34105722, 0.15612398, 0.03527022])"
      ]
     },
     "execution_count": 92,
     "metadata": {},
     "output_type": "execute_result"
    }
   ],
   "source": [
    "clf_RFC_drop.feature_importances_"
   ]
  },
  {
   "cell_type": "code",
   "execution_count": 93,
   "metadata": {},
   "outputs": [
    {
     "data": {
      "text/html": [
       "<div>\n",
       "<style scoped>\n",
       "    .dataframe tbody tr th:only-of-type {\n",
       "        vertical-align: middle;\n",
       "    }\n",
       "\n",
       "    .dataframe tbody tr th {\n",
       "        vertical-align: top;\n",
       "    }\n",
       "\n",
       "    .dataframe thead th {\n",
       "        text-align: right;\n",
       "    }\n",
       "</style>\n",
       "<table border=\"1\" class=\"dataframe\">\n",
       "  <thead>\n",
       "    <tr style=\"text-align: right;\">\n",
       "      <th></th>\n",
       "      <th>AgeinYears</th>\n",
       "      <th>HasName</th>\n",
       "      <th>SexuponOutcome_Intact Female</th>\n",
       "      <th>SexuponOutcome_Neutered Male</th>\n",
       "    </tr>\n",
       "  </thead>\n",
       "  <tbody>\n",
       "    <tr>\n",
       "      <th>0</th>\n",
       "      <td>0.833333</td>\n",
       "      <td>1</td>\n",
       "      <td>1</td>\n",
       "      <td>0</td>\n",
       "    </tr>\n",
       "    <tr>\n",
       "      <th>1</th>\n",
       "      <td>2.000000</td>\n",
       "      <td>1</td>\n",
       "      <td>0</td>\n",
       "      <td>0</td>\n",
       "    </tr>\n",
       "    <tr>\n",
       "      <th>2</th>\n",
       "      <td>1.000000</td>\n",
       "      <td>1</td>\n",
       "      <td>0</td>\n",
       "      <td>1</td>\n",
       "    </tr>\n",
       "    <tr>\n",
       "      <th>3</th>\n",
       "      <td>0.333333</td>\n",
       "      <td>1</td>\n",
       "      <td>0</td>\n",
       "      <td>0</td>\n",
       "    </tr>\n",
       "    <tr>\n",
       "      <th>4</th>\n",
       "      <td>2.000000</td>\n",
       "      <td>1</td>\n",
       "      <td>0</td>\n",
       "      <td>1</td>\n",
       "    </tr>\n",
       "  </tbody>\n",
       "</table>\n",
       "</div>"
      ],
      "text/plain": [
       "   AgeinYears  HasName  SexuponOutcome_Intact Female  \\\n",
       "0    0.833333        1                             1   \n",
       "1    2.000000        1                             0   \n",
       "2    1.000000        1                             0   \n",
       "3    0.333333        1                             0   \n",
       "4    2.000000        1                             0   \n",
       "\n",
       "   SexuponOutcome_Neutered Male  \n",
       "0                             0  \n",
       "1                             0  \n",
       "2                             1  \n",
       "3                             0  \n",
       "4                             1  "
      ]
     },
     "execution_count": 93,
     "metadata": {},
     "output_type": "execute_result"
    }
   ],
   "source": [
    "test_features_mod = test_features[['AgeinYears', 'HasName', 'SexuponOutcome_Intact Female', 'SexuponOutcome_Neutered Male']].copy()\n",
    "test_features_mod.head()"
   ]
  },
  {
   "cell_type": "code",
   "execution_count": 94,
   "metadata": {},
   "outputs": [
    {
     "data": {
      "text/html": [
       "<div>\n",
       "<style scoped>\n",
       "    .dataframe tbody tr th:only-of-type {\n",
       "        vertical-align: middle;\n",
       "    }\n",
       "\n",
       "    .dataframe tbody tr th {\n",
       "        vertical-align: top;\n",
       "    }\n",
       "\n",
       "    .dataframe thead th {\n",
       "        text-align: right;\n",
       "    }\n",
       "</style>\n",
       "<table border=\"1\" class=\"dataframe\">\n",
       "  <thead>\n",
       "    <tr style=\"text-align: right;\">\n",
       "      <th></th>\n",
       "      <th>ID</th>\n",
       "      <th>Adoption</th>\n",
       "      <th>Died</th>\n",
       "      <th>Euthanasia</th>\n",
       "      <th>Return_to_owner</th>\n",
       "      <th>Transfer</th>\n",
       "    </tr>\n",
       "  </thead>\n",
       "  <tbody>\n",
       "    <tr>\n",
       "      <th>0</th>\n",
       "      <td>1</td>\n",
       "      <td>0.172191</td>\n",
       "      <td>0.077706</td>\n",
       "      <td>0.297090</td>\n",
       "      <td>0.442902</td>\n",
       "      <td>0.010112</td>\n",
       "    </tr>\n",
       "    <tr>\n",
       "      <th>1</th>\n",
       "      <td>2</td>\n",
       "      <td>0.267979</td>\n",
       "      <td>0.049643</td>\n",
       "      <td>0.441693</td>\n",
       "      <td>0.237337</td>\n",
       "      <td>0.003348</td>\n",
       "    </tr>\n",
       "    <tr>\n",
       "      <th>2</th>\n",
       "      <td>3</td>\n",
       "      <td>0.267979</td>\n",
       "      <td>0.049643</td>\n",
       "      <td>0.441693</td>\n",
       "      <td>0.237337</td>\n",
       "      <td>0.003348</td>\n",
       "    </tr>\n",
       "    <tr>\n",
       "      <th>3</th>\n",
       "      <td>4</td>\n",
       "      <td>0.157453</td>\n",
       "      <td>0.032076</td>\n",
       "      <td>0.555202</td>\n",
       "      <td>0.249419</td>\n",
       "      <td>0.005850</td>\n",
       "    </tr>\n",
       "    <tr>\n",
       "      <th>4</th>\n",
       "      <td>5</td>\n",
       "      <td>0.267979</td>\n",
       "      <td>0.049643</td>\n",
       "      <td>0.441693</td>\n",
       "      <td>0.237337</td>\n",
       "      <td>0.003348</td>\n",
       "    </tr>\n",
       "  </tbody>\n",
       "</table>\n",
       "</div>"
      ],
      "text/plain": [
       "   ID  Adoption      Died  Euthanasia  Return_to_owner  Transfer\n",
       "0   1  0.172191  0.077706    0.297090         0.442902  0.010112\n",
       "1   2  0.267979  0.049643    0.441693         0.237337  0.003348\n",
       "2   3  0.267979  0.049643    0.441693         0.237337  0.003348\n",
       "3   4  0.157453  0.032076    0.555202         0.249419  0.005850\n",
       "4   5  0.267979  0.049643    0.441693         0.237337  0.003348"
      ]
     },
     "execution_count": 94,
     "metadata": {},
     "output_type": "execute_result"
    }
   ],
   "source": [
    "results = clf_RFC_drop.predict_proba(test_features_mod)\n",
    "results_form = pd.DataFrame(results)\n",
    "results_form.columns = ['Adoption', 'Died', 'Euthanasia', 'Return_to_owner', 'Transfer']\n",
    "results_form['ID'] = test['ID']\n",
    "cols = results_form.columns.tolist()\n",
    "cols = cols[-1:] + cols[:-1]\n",
    "results_form = results_form[cols]\n",
    "results_form.head()"
   ]
  },
  {
   "cell_type": "code",
   "execution_count": 95,
   "metadata": {},
   "outputs": [],
   "source": [
    "results_form.to_csv('results_RFC_drop.csv', index=False)\n",
    "\n",
    "#Score = 2.66849"
   ]
  },
  {
   "cell_type": "markdown",
   "metadata": {},
   "source": [
    "## RFC w/ Gridsearch"
   ]
  },
  {
   "cell_type": "code",
   "execution_count": 44,
   "metadata": {},
   "outputs": [
    {
     "name": "stderr",
     "output_type": "stream",
     "text": [
      "C:\\Python36\\lib\\site-packages\\sklearn\\cross_validation.py:41: DeprecationWarning: This module was deprecated in version 0.18 in favor of the model_selection module into which all the refactored classes and functions are moved. Also note that the interface of the new CV iterators are different from that of this module. This module will be removed in 0.20.\n",
      "  \"This module will be removed in 0.20.\", DeprecationWarning)\n",
      "C:\\Python36\\lib\\site-packages\\sklearn\\grid_search.py:42: DeprecationWarning: This module was deprecated in version 0.18 in favor of the model_selection module into which all the refactored classes and functions are moved. This module will be removed in 0.20.\n",
      "  DeprecationWarning)\n"
     ]
    },
    {
     "data": {
      "text/plain": [
       "GridSearchCV(cv=None, error_score='raise',\n",
       "       estimator=RandomForestClassifier(bootstrap=True, class_weight=None, criterion='gini',\n",
       "            max_depth=None, max_features='auto', max_leaf_nodes=None,\n",
       "            min_impurity_decrease=0.0, min_impurity_split=None,\n",
       "            min_samples_leaf=1, min_samples_split=2,\n",
       "            min_weight_fraction_leaf=0.0, n_estimators=10, n_jobs=1,\n",
       "            oob_score=False, random_state=0, verbose=0, warm_start=False),\n",
       "       fit_params={}, iid=True, n_jobs=1,\n",
       "       param_grid=[{'n_estimators': [240, 250, 260], 'max_depth': [8, 9, 10, 11, 12], 'min_samples_leaf': [22, 25, 27]}],\n",
       "       pre_dispatch='2*n_jobs', refit=True, scoring='neg_log_loss',\n",
       "       verbose=0)"
      ]
     },
     "execution_count": 44,
     "metadata": {},
     "output_type": "execute_result"
    }
   ],
   "source": [
    "##### Tune randomforest classifier\n",
    "from sklearn.grid_search import GridSearchCV\n",
    "\n",
    "#Define parameter matrix\n",
    "param_matrix = [\n",
    "    {'n_estimators': [240,250,260], 'max_depth': [8,9,10,11,12], 'min_samples_leaf': [22,25,27]}\n",
    "]\n",
    "\n",
    "clf_GS_RFC = GridSearchCV(estimator = RandomForestClassifier(random_state=0), param_grid = param_matrix, scoring='neg_log_loss')\n",
    "clf_GS_RFC.fit(train_features, train_outcomes)"
   ]
  },
  {
   "cell_type": "code",
   "execution_count": 45,
   "metadata": {},
   "outputs": [
    {
     "name": "stdout",
     "output_type": "stream",
     "text": [
      "RandomForestClassifier(bootstrap=True, class_weight=None, criterion='gini',\n",
      "            max_depth=8, max_features='auto', max_leaf_nodes=None,\n",
      "            min_impurity_decrease=0.0, min_impurity_split=None,\n",
      "            min_samples_leaf=22, min_samples_split=2,\n",
      "            min_weight_fraction_leaf=0.0, n_estimators=260, n_jobs=1,\n",
      "            oob_score=False, random_state=0, verbose=0, warm_start=False)\n"
     ]
    }
   ],
   "source": [
    "print(clf_GS_RFC.best_estimator_)"
   ]
  },
  {
   "cell_type": "code",
   "execution_count": 46,
   "metadata": {},
   "outputs": [
    {
     "data": {
      "text/html": [
       "<div>\n",
       "<style scoped>\n",
       "    .dataframe tbody tr th:only-of-type {\n",
       "        vertical-align: middle;\n",
       "    }\n",
       "\n",
       "    .dataframe tbody tr th {\n",
       "        vertical-align: top;\n",
       "    }\n",
       "\n",
       "    .dataframe thead th {\n",
       "        text-align: right;\n",
       "    }\n",
       "</style>\n",
       "<table border=\"1\" class=\"dataframe\">\n",
       "  <thead>\n",
       "    <tr style=\"text-align: right;\">\n",
       "      <th></th>\n",
       "      <th>ID</th>\n",
       "      <th>Adoption</th>\n",
       "      <th>Died</th>\n",
       "      <th>Euthanasia</th>\n",
       "      <th>Return_to_owner</th>\n",
       "      <th>Transfer</th>\n",
       "    </tr>\n",
       "  </thead>\n",
       "  <tbody>\n",
       "    <tr>\n",
       "      <th>0</th>\n",
       "      <td>1</td>\n",
       "      <td>0.276870</td>\n",
       "      <td>0.075283</td>\n",
       "      <td>0.095409</td>\n",
       "      <td>0.551303</td>\n",
       "      <td>0.001135</td>\n",
       "    </tr>\n",
       "    <tr>\n",
       "      <th>1</th>\n",
       "      <td>2</td>\n",
       "      <td>0.285141</td>\n",
       "      <td>0.028665</td>\n",
       "      <td>0.519224</td>\n",
       "      <td>0.165187</td>\n",
       "      <td>0.001782</td>\n",
       "    </tr>\n",
       "    <tr>\n",
       "      <th>2</th>\n",
       "      <td>3</td>\n",
       "      <td>0.153105</td>\n",
       "      <td>0.018360</td>\n",
       "      <td>0.436050</td>\n",
       "      <td>0.391143</td>\n",
       "      <td>0.001342</td>\n",
       "    </tr>\n",
       "    <tr>\n",
       "      <th>3</th>\n",
       "      <td>4</td>\n",
       "      <td>0.187394</td>\n",
       "      <td>0.045239</td>\n",
       "      <td>0.103710</td>\n",
       "      <td>0.661048</td>\n",
       "      <td>0.002608</td>\n",
       "    </tr>\n",
       "    <tr>\n",
       "      <th>4</th>\n",
       "      <td>5</td>\n",
       "      <td>0.333680</td>\n",
       "      <td>0.039136</td>\n",
       "      <td>0.438827</td>\n",
       "      <td>0.186639</td>\n",
       "      <td>0.001718</td>\n",
       "    </tr>\n",
       "  </tbody>\n",
       "</table>\n",
       "</div>"
      ],
      "text/plain": [
       "   ID  Adoption      Died  Euthanasia  Return_to_owner  Transfer\n",
       "0   1  0.276870  0.075283    0.095409         0.551303  0.001135\n",
       "1   2  0.285141  0.028665    0.519224         0.165187  0.001782\n",
       "2   3  0.153105  0.018360    0.436050         0.391143  0.001342\n",
       "3   4  0.187394  0.045239    0.103710         0.661048  0.002608\n",
       "4   5  0.333680  0.039136    0.438827         0.186639  0.001718"
      ]
     },
     "execution_count": 46,
     "metadata": {},
     "output_type": "execute_result"
    }
   ],
   "source": [
    "results = clf_GS_RFC.predict_proba(test_features)\n",
    "results_form = pd.DataFrame(results)\n",
    "results_form.columns = ['Adoption', 'Died', 'Euthanasia', 'Return_to_owner', 'Transfer']\n",
    "results_form['ID'] = test['ID']\n",
    "cols = results_form.columns.tolist()\n",
    "cols = cols[-1:] + cols[:-1]\n",
    "results_form = results_form[cols]\n",
    "results_form.head()"
   ]
  },
  {
   "cell_type": "code",
   "execution_count": 47,
   "metadata": {},
   "outputs": [],
   "source": [
    "results_form.to_csv('results_GS_RFC.csv', index=False)\n",
    "\n",
    "#Score = 3.33648"
   ]
  },
  {
   "cell_type": "markdown",
   "metadata": {},
   "source": [
    "## RFC GS w/ Dropped"
   ]
  },
  {
   "cell_type": "code",
   "execution_count": 48,
   "metadata": {},
   "outputs": [
    {
     "data": {
      "text/plain": [
       "GridSearchCV(cv=None, error_score='raise',\n",
       "       estimator=RandomForestClassifier(bootstrap=True, class_weight=None, criterion='gini',\n",
       "            max_depth=None, max_features='auto', max_leaf_nodes=None,\n",
       "            min_impurity_decrease=0.0, min_impurity_split=None,\n",
       "            min_samples_leaf=1, min_samples_split=2,\n",
       "            min_weight_fraction_leaf=0.0, n_estimators=10, n_jobs=1,\n",
       "            oob_score=False, random_state=0, verbose=0, warm_start=False),\n",
       "       fit_params={}, iid=True, n_jobs=1,\n",
       "       param_grid=[{'n_estimators': [240, 250, 260], 'max_depth': [8, 9, 10, 11, 12], 'min_samples_leaf': [22, 25, 27]}],\n",
       "       pre_dispatch='2*n_jobs', refit=True, scoring='neg_log_loss',\n",
       "       verbose=0)"
      ]
     },
     "execution_count": 48,
     "metadata": {},
     "output_type": "execute_result"
    }
   ],
   "source": [
    "#Define parameter matrix\n",
    "param_matrix = [\n",
    "    {'n_estimators': [240,250,260], 'max_depth': [8,9,10,11,12], 'min_samples_leaf': [22,25,27]}\n",
    "]\n",
    "\n",
    "clf_GS_RFC_drop = GridSearchCV(estimator = RandomForestClassifier(random_state=0), param_grid = param_matrix, scoring='neg_log_loss')\n",
    "clf_GS_RFC_drop.fit(train_features_mod, train_outcomes)"
   ]
  },
  {
   "cell_type": "code",
   "execution_count": 50,
   "metadata": {},
   "outputs": [
    {
     "data": {
      "text/html": [
       "<div>\n",
       "<style scoped>\n",
       "    .dataframe tbody tr th:only-of-type {\n",
       "        vertical-align: middle;\n",
       "    }\n",
       "\n",
       "    .dataframe tbody tr th {\n",
       "        vertical-align: top;\n",
       "    }\n",
       "\n",
       "    .dataframe thead th {\n",
       "        text-align: right;\n",
       "    }\n",
       "</style>\n",
       "<table border=\"1\" class=\"dataframe\">\n",
       "  <thead>\n",
       "    <tr style=\"text-align: right;\">\n",
       "      <th></th>\n",
       "      <th>ID</th>\n",
       "      <th>Adoption</th>\n",
       "      <th>Died</th>\n",
       "      <th>Euthanasia</th>\n",
       "      <th>Return_to_owner</th>\n",
       "      <th>Transfer</th>\n",
       "    </tr>\n",
       "  </thead>\n",
       "  <tbody>\n",
       "    <tr>\n",
       "      <th>0</th>\n",
       "      <td>1</td>\n",
       "      <td>0.220913</td>\n",
       "      <td>0.072467</td>\n",
       "      <td>0.082038</td>\n",
       "      <td>0.624382</td>\n",
       "      <td>0.000200</td>\n",
       "    </tr>\n",
       "    <tr>\n",
       "      <th>1</th>\n",
       "      <td>2</td>\n",
       "      <td>0.284094</td>\n",
       "      <td>0.045406</td>\n",
       "      <td>0.435081</td>\n",
       "      <td>0.233955</td>\n",
       "      <td>0.001464</td>\n",
       "    </tr>\n",
       "    <tr>\n",
       "      <th>2</th>\n",
       "      <td>3</td>\n",
       "      <td>0.227994</td>\n",
       "      <td>0.019001</td>\n",
       "      <td>0.533897</td>\n",
       "      <td>0.217674</td>\n",
       "      <td>0.001434</td>\n",
       "    </tr>\n",
       "    <tr>\n",
       "      <th>3</th>\n",
       "      <td>4</td>\n",
       "      <td>0.072534</td>\n",
       "      <td>0.008071</td>\n",
       "      <td>0.685171</td>\n",
       "      <td>0.233989</td>\n",
       "      <td>0.000235</td>\n",
       "    </tr>\n",
       "    <tr>\n",
       "      <th>4</th>\n",
       "      <td>5</td>\n",
       "      <td>0.329785</td>\n",
       "      <td>0.037960</td>\n",
       "      <td>0.413168</td>\n",
       "      <td>0.217556</td>\n",
       "      <td>0.001531</td>\n",
       "    </tr>\n",
       "  </tbody>\n",
       "</table>\n",
       "</div>"
      ],
      "text/plain": [
       "   ID  Adoption      Died  Euthanasia  Return_to_owner  Transfer\n",
       "0   1  0.220913  0.072467    0.082038         0.624382  0.000200\n",
       "1   2  0.284094  0.045406    0.435081         0.233955  0.001464\n",
       "2   3  0.227994  0.019001    0.533897         0.217674  0.001434\n",
       "3   4  0.072534  0.008071    0.685171         0.233989  0.000235\n",
       "4   5  0.329785  0.037960    0.413168         0.217556  0.001531"
      ]
     },
     "execution_count": 50,
     "metadata": {},
     "output_type": "execute_result"
    }
   ],
   "source": [
    "results = clf_GS_RFC_drop.predict_proba(test_features_mod)\n",
    "results_form = pd.DataFrame(results)\n",
    "results_form.columns = ['Adoption', 'Died', 'Euthanasia', 'Return_to_owner', 'Transfer']\n",
    "results_form['ID'] = test['ID']\n",
    "cols = results_form.columns.tolist()\n",
    "cols = cols[-1:] + cols[:-1]\n",
    "results_form = results_form[cols]\n",
    "results_form.head()"
   ]
  },
  {
   "cell_type": "code",
   "execution_count": 51,
   "metadata": {},
   "outputs": [],
   "source": [
    "results_form.to_csv('results_GS_RFC_drop.csv', index=False)\n",
    "\n",
    "##Score = 3.44172"
   ]
  },
  {
   "cell_type": "markdown",
   "metadata": {},
   "source": [
    "## ADABOOST CLASSIFIER"
   ]
  },
  {
   "cell_type": "code",
   "execution_count": 130,
   "metadata": {},
   "outputs": [
    {
     "data": {
      "text/plain": [
       "AdaBoostClassifier(algorithm='SAMME.R', base_estimator=None,\n",
       "          learning_rate=1.0, n_estimators=50, random_state=55)"
      ]
     },
     "execution_count": 130,
     "metadata": {},
     "output_type": "execute_result"
    }
   ],
   "source": [
    "from sklearn.ensemble import AdaBoostClassifier\n",
    "\n",
    "ada_clf = AdaBoostClassifier(random_state=55)\n",
    "ada_clf.fit(train_features, train_outcomes)"
   ]
  },
  {
   "cell_type": "code",
   "execution_count": 131,
   "metadata": {},
   "outputs": [
    {
     "data": {
      "text/html": [
       "<div>\n",
       "<style scoped>\n",
       "    .dataframe tbody tr th:only-of-type {\n",
       "        vertical-align: middle;\n",
       "    }\n",
       "\n",
       "    .dataframe tbody tr th {\n",
       "        vertical-align: top;\n",
       "    }\n",
       "\n",
       "    .dataframe thead th {\n",
       "        text-align: right;\n",
       "    }\n",
       "</style>\n",
       "<table border=\"1\" class=\"dataframe\">\n",
       "  <thead>\n",
       "    <tr style=\"text-align: right;\">\n",
       "      <th></th>\n",
       "      <th>ID</th>\n",
       "      <th>Adoption</th>\n",
       "      <th>Died</th>\n",
       "      <th>Euthanasia</th>\n",
       "      <th>Return_to_owner</th>\n",
       "      <th>Transfer</th>\n",
       "    </tr>\n",
       "  </thead>\n",
       "  <tbody>\n",
       "    <tr>\n",
       "      <th>0</th>\n",
       "      <td>1</td>\n",
       "      <td>0.203431</td>\n",
       "      <td>0.198821</td>\n",
       "      <td>0.200023</td>\n",
       "      <td>0.208829</td>\n",
       "      <td>0.188897</td>\n",
       "    </tr>\n",
       "    <tr>\n",
       "      <th>1</th>\n",
       "      <td>2</td>\n",
       "      <td>0.207017</td>\n",
       "      <td>0.196276</td>\n",
       "      <td>0.208071</td>\n",
       "      <td>0.203805</td>\n",
       "      <td>0.184832</td>\n",
       "    </tr>\n",
       "    <tr>\n",
       "      <th>2</th>\n",
       "      <td>3</td>\n",
       "      <td>0.201682</td>\n",
       "      <td>0.195128</td>\n",
       "      <td>0.209098</td>\n",
       "      <td>0.206861</td>\n",
       "      <td>0.187231</td>\n",
       "    </tr>\n",
       "    <tr>\n",
       "      <th>3</th>\n",
       "      <td>4</td>\n",
       "      <td>0.204582</td>\n",
       "      <td>0.198041</td>\n",
       "      <td>0.199817</td>\n",
       "      <td>0.208451</td>\n",
       "      <td>0.189109</td>\n",
       "    </tr>\n",
       "    <tr>\n",
       "      <th>4</th>\n",
       "      <td>5</td>\n",
       "      <td>0.206813</td>\n",
       "      <td>0.196961</td>\n",
       "      <td>0.207175</td>\n",
       "      <td>0.203869</td>\n",
       "      <td>0.185181</td>\n",
       "    </tr>\n",
       "  </tbody>\n",
       "</table>\n",
       "</div>"
      ],
      "text/plain": [
       "   ID  Adoption      Died  Euthanasia  Return_to_owner  Transfer\n",
       "0   1  0.203431  0.198821    0.200023         0.208829  0.188897\n",
       "1   2  0.207017  0.196276    0.208071         0.203805  0.184832\n",
       "2   3  0.201682  0.195128    0.209098         0.206861  0.187231\n",
       "3   4  0.204582  0.198041    0.199817         0.208451  0.189109\n",
       "4   5  0.206813  0.196961    0.207175         0.203869  0.185181"
      ]
     },
     "execution_count": 131,
     "metadata": {},
     "output_type": "execute_result"
    }
   ],
   "source": [
    "results = ada_clf.predict_proba(test_features)\n",
    "results_form = pd.DataFrame(results)\n",
    "results_form.columns = ['Adoption', 'Died', 'Euthanasia', 'Return_to_owner', 'Transfer']\n",
    "results_form['ID'] = test['ID']\n",
    "cols = results_form.columns.tolist()\n",
    "cols = cols[-1:] + cols[:-1]\n",
    "results_form = results_form[cols]\n",
    "results_form.head()"
   ]
  },
  {
   "cell_type": "code",
   "execution_count": 132,
   "metadata": {},
   "outputs": [],
   "source": [
    "results_form.to_csv('results_ada.csv', index=False)\n",
    "\n",
    "#Score = 1.60682 - as-is\n"
   ]
  },
  {
   "cell_type": "code",
   "execution_count": 133,
   "metadata": {},
   "outputs": [
    {
     "name": "stdout",
     "output_type": "stream",
     "text": [
      "26729\n",
      "20046\n"
     ]
    }
   ],
   "source": [
    "print(train_features.shape[0])\n",
    "num = int(train_features.shape[0]*3/4)\n",
    "print(num)"
   ]
  },
  {
   "cell_type": "code",
   "execution_count": 134,
   "metadata": {},
   "outputs": [],
   "source": [
    "train_features_3quarter = train_features[:num]\n",
    "train_outcomes_3quarter = train_outcomes[:num]"
   ]
  },
  {
   "cell_type": "code",
   "execution_count": 135,
   "metadata": {},
   "outputs": [],
   "source": [
    "ada_clf = AdaBoostClassifier(random_state=55)\n",
    "ada_clf.fit(train_features_3quarter, train_outcomes_3quarter)\n",
    "results = ada_clf.predict_proba(test_features)\n",
    "results_form = pd.DataFrame(results)\n",
    "results_form.columns = ['Adoption', 'Died', 'Euthanasia', 'Return_to_owner', 'Transfer']\n",
    "results_form['ID'] = test['ID']\n",
    "cols = results_form.columns.tolist()\n",
    "cols = cols[-1:] + cols[:-1]\n",
    "results_form = results_form[cols]\n",
    "results_form.head()\n",
    "results_form.to_csv('results_ada_pert.csv', index=False)\n",
    "\n",
    "#Score = 1.60787 - perturbed"
   ]
  },
  {
   "cell_type": "markdown",
   "metadata": {},
   "source": [
    "## ADA W/ DROPPED FEATURES"
   ]
  },
  {
   "cell_type": "code",
   "execution_count": 136,
   "metadata": {},
   "outputs": [
    {
     "name": "stdout",
     "output_type": "stream",
     "text": [
      "[0.74 0.06 0.02 0.02 0.04 0.06 0.02 0.02 0.02]\n"
     ]
    }
   ],
   "source": [
    "print(ada_clf.feature_importances_)"
   ]
  },
  {
   "cell_type": "code",
   "execution_count": 103,
   "metadata": {},
   "outputs": [
    {
     "data": {
      "text/html": [
       "<div>\n",
       "<style scoped>\n",
       "    .dataframe tbody tr th:only-of-type {\n",
       "        vertical-align: middle;\n",
       "    }\n",
       "\n",
       "    .dataframe tbody tr th {\n",
       "        vertical-align: top;\n",
       "    }\n",
       "\n",
       "    .dataframe thead th {\n",
       "        text-align: right;\n",
       "    }\n",
       "</style>\n",
       "<table border=\"1\" class=\"dataframe\">\n",
       "  <thead>\n",
       "    <tr style=\"text-align: right;\">\n",
       "      <th></th>\n",
       "      <th>AgeinYears</th>\n",
       "    </tr>\n",
       "  </thead>\n",
       "  <tbody>\n",
       "    <tr>\n",
       "      <th>0</th>\n",
       "      <td>0.833333</td>\n",
       "    </tr>\n",
       "    <tr>\n",
       "      <th>1</th>\n",
       "      <td>2.000000</td>\n",
       "    </tr>\n",
       "    <tr>\n",
       "      <th>2</th>\n",
       "      <td>1.000000</td>\n",
       "    </tr>\n",
       "    <tr>\n",
       "      <th>3</th>\n",
       "      <td>0.333333</td>\n",
       "    </tr>\n",
       "    <tr>\n",
       "      <th>4</th>\n",
       "      <td>2.000000</td>\n",
       "    </tr>\n",
       "  </tbody>\n",
       "</table>\n",
       "</div>"
      ],
      "text/plain": [
       "   AgeinYears\n",
       "0    0.833333\n",
       "1    2.000000\n",
       "2    1.000000\n",
       "3    0.333333\n",
       "4    2.000000"
      ]
     },
     "execution_count": 103,
     "metadata": {},
     "output_type": "execute_result"
    }
   ],
   "source": [
    "train_features_mod = train_features[['AgeinYears']].copy()\n",
    "train_features_mod.head()\n",
    "test_features_mod = test_features[['AgeinYears']].copy()\n",
    "test_features_mod.head()"
   ]
  },
  {
   "cell_type": "code",
   "execution_count": 104,
   "metadata": {},
   "outputs": [],
   "source": [
    "ada_clf_drop = ada_clf\n",
    "ada_clf_drop.fit(train_features_mod, train_outcomes)\n",
    "results = ada_clf_drop.predict_proba(test_features_mod)\n",
    "results_form = pd.DataFrame(results)\n",
    "results_form.columns = ['Adoption', 'Died', 'Euthanasia', 'Return_to_owner', 'Transfer']\n",
    "results_form['ID'] = test['ID']\n",
    "cols = results_form.columns.tolist()\n",
    "cols = cols[-1:] + cols[:-1]\n",
    "results_form = results_form[cols]\n",
    "results_form.head()\n",
    "results_form.to_csv('results_ada_drop.csv', index=False)\n",
    "\n",
    "#Score = 1.61102"
   ]
  },
  {
   "cell_type": "markdown",
   "metadata": {},
   "source": [
    "## ADABOOST GS"
   ]
  },
  {
   "cell_type": "code",
   "execution_count": 61,
   "metadata": {},
   "outputs": [
    {
     "data": {
      "text/plain": [
       "GridSearchCV(cv=None, error_score='raise',\n",
       "       estimator=AdaBoostClassifier(algorithm='SAMME.R', base_estimator=None,\n",
       "          learning_rate=1.0, n_estimators=50, random_state=0),\n",
       "       fit_params={}, iid=True, n_jobs=1,\n",
       "       param_grid=[{'n_estimators': [1, 2, 3, 4, 5, 6, 7, 8, 9, 10], 'learning_rate': [0.1, 0.2, 0.5, 0.7]}],\n",
       "       pre_dispatch='2*n_jobs', refit=True, scoring='neg_log_loss',\n",
       "       verbose=0)"
      ]
     },
     "execution_count": 61,
     "metadata": {},
     "output_type": "execute_result"
    }
   ],
   "source": [
    "##### Tune adaboost classifier\n",
    "\n",
    "#Define parameter matrix\n",
    "param_matrix_ada = [\n",
    "    {'n_estimators': [1,2,3,4,5,6,7,8,9,10], 'learning_rate': [.1,.2,.5,.7]}\n",
    "]\n",
    "\n",
    "clf_GS_ada = GridSearchCV(estimator = AdaBoostClassifier(random_state=0), param_grid = param_matrix_ada, scoring='neg_log_loss')\n",
    "clf_GS_ada.fit(train_features, train_outcomes)"
   ]
  },
  {
   "cell_type": "code",
   "execution_count": 62,
   "metadata": {},
   "outputs": [
    {
     "name": "stdout",
     "output_type": "stream",
     "text": [
      "AdaBoostClassifier(algorithm='SAMME.R', base_estimator=None,\n",
      "          learning_rate=0.1, n_estimators=5, random_state=0)\n"
     ]
    }
   ],
   "source": [
    "print(clf_GS_ada.best_estimator_)"
   ]
  },
  {
   "cell_type": "code",
   "execution_count": 63,
   "metadata": {},
   "outputs": [
    {
     "data": {
      "text/html": [
       "<div>\n",
       "<style scoped>\n",
       "    .dataframe tbody tr th:only-of-type {\n",
       "        vertical-align: middle;\n",
       "    }\n",
       "\n",
       "    .dataframe tbody tr th {\n",
       "        vertical-align: top;\n",
       "    }\n",
       "\n",
       "    .dataframe thead th {\n",
       "        text-align: right;\n",
       "    }\n",
       "</style>\n",
       "<table border=\"1\" class=\"dataframe\">\n",
       "  <thead>\n",
       "    <tr style=\"text-align: right;\">\n",
       "      <th></th>\n",
       "      <th>ID</th>\n",
       "      <th>Adoption</th>\n",
       "      <th>Died</th>\n",
       "      <th>Euthanasia</th>\n",
       "      <th>Return_to_owner</th>\n",
       "      <th>Transfer</th>\n",
       "    </tr>\n",
       "  </thead>\n",
       "  <tbody>\n",
       "    <tr>\n",
       "      <th>0</th>\n",
       "      <td>1</td>\n",
       "      <td>0.191811</td>\n",
       "      <td>0.079689</td>\n",
       "      <td>0.340267</td>\n",
       "      <td>0.373454</td>\n",
       "      <td>0.014778</td>\n",
       "    </tr>\n",
       "    <tr>\n",
       "      <th>1</th>\n",
       "      <td>2</td>\n",
       "      <td>0.253267</td>\n",
       "      <td>0.072195</td>\n",
       "      <td>0.404859</td>\n",
       "      <td>0.260450</td>\n",
       "      <td>0.009229</td>\n",
       "    </tr>\n",
       "    <tr>\n",
       "      <th>2</th>\n",
       "      <td>3</td>\n",
       "      <td>0.197302</td>\n",
       "      <td>0.059789</td>\n",
       "      <td>0.453265</td>\n",
       "      <td>0.278966</td>\n",
       "      <td>0.010679</td>\n",
       "    </tr>\n",
       "    <tr>\n",
       "      <th>3</th>\n",
       "      <td>4</td>\n",
       "      <td>0.197302</td>\n",
       "      <td>0.059789</td>\n",
       "      <td>0.453265</td>\n",
       "      <td>0.278966</td>\n",
       "      <td>0.010679</td>\n",
       "    </tr>\n",
       "    <tr>\n",
       "      <th>4</th>\n",
       "      <td>5</td>\n",
       "      <td>0.253267</td>\n",
       "      <td>0.072195</td>\n",
       "      <td>0.404859</td>\n",
       "      <td>0.260450</td>\n",
       "      <td>0.009229</td>\n",
       "    </tr>\n",
       "  </tbody>\n",
       "</table>\n",
       "</div>"
      ],
      "text/plain": [
       "   ID  Adoption      Died  Euthanasia  Return_to_owner  Transfer\n",
       "0   1  0.191811  0.079689    0.340267         0.373454  0.014778\n",
       "1   2  0.253267  0.072195    0.404859         0.260450  0.009229\n",
       "2   3  0.197302  0.059789    0.453265         0.278966  0.010679\n",
       "3   4  0.197302  0.059789    0.453265         0.278966  0.010679\n",
       "4   5  0.253267  0.072195    0.404859         0.260450  0.009229"
      ]
     },
     "execution_count": 63,
     "metadata": {},
     "output_type": "execute_result"
    }
   ],
   "source": [
    "results = clf_GS_ada.predict_proba(test_features)\n",
    "results_form = pd.DataFrame(results)\n",
    "results_form.columns = ['Adoption', 'Died', 'Euthanasia', 'Return_to_owner', 'Transfer']\n",
    "results_form['ID'] = test['ID']\n",
    "cols = results_form.columns.tolist()\n",
    "cols = cols[-1:] + cols[:-1]\n",
    "results_form = results_form[cols]\n",
    "results_form.head()"
   ]
  },
  {
   "cell_type": "code",
   "execution_count": 64,
   "metadata": {},
   "outputs": [],
   "source": [
    "results_form.to_csv('results_GS_ada.csv', index=False)\n",
    "\n",
    "#Score = 2.43352"
   ]
  },
  {
   "cell_type": "markdown",
   "metadata": {},
   "source": [
    "## GS ADA W/ DROPPED FEATURES"
   ]
  },
  {
   "cell_type": "code",
   "execution_count": 65,
   "metadata": {},
   "outputs": [
    {
     "data": {
      "text/plain": [
       "GridSearchCV(cv=None, error_score='raise',\n",
       "       estimator=AdaBoostClassifier(algorithm='SAMME.R', base_estimator=None,\n",
       "          learning_rate=1.0, n_estimators=50, random_state=0),\n",
       "       fit_params={}, iid=True, n_jobs=1,\n",
       "       param_grid=[{'n_estimators': [1, 2, 3, 4, 5, 6, 7, 8, 9, 10], 'learning_rate': [0.1, 0.2, 0.5, 0.7]}],\n",
       "       pre_dispatch='2*n_jobs', refit=True, scoring='neg_log_loss',\n",
       "       verbose=0)"
      ]
     },
     "execution_count": 65,
     "metadata": {},
     "output_type": "execute_result"
    }
   ],
   "source": [
    "##### Tune adaboost classifier\n",
    "\n",
    "#Define parameter matrix\n",
    "param_matrix_ada = [\n",
    "    {'n_estimators': [1,2,3,4,5,6,7,8,9,10], 'learning_rate': [.1,.2,.5,.7]}\n",
    "]\n",
    "\n",
    "clf_GS_ada_drop = GridSearchCV(estimator = AdaBoostClassifier(random_state=0), param_grid = param_matrix_ada, scoring='neg_log_loss')\n",
    "clf_GS_ada_drop.fit(train_features_mod, train_outcomes)"
   ]
  },
  {
   "cell_type": "code",
   "execution_count": 66,
   "metadata": {},
   "outputs": [
    {
     "name": "stdout",
     "output_type": "stream",
     "text": [
      "AdaBoostClassifier(algorithm='SAMME.R', base_estimator=None,\n",
      "          learning_rate=0.1, n_estimators=4, random_state=0)\n"
     ]
    }
   ],
   "source": [
    "print(clf_GS_ada_drop.best_estimator_)"
   ]
  },
  {
   "cell_type": "code",
   "execution_count": 67,
   "metadata": {},
   "outputs": [],
   "source": [
    "results = clf_GS_ada_drop.predict_proba(test_features_mod)\n",
    "results_form = pd.DataFrame(results)\n",
    "results_form.columns = ['Adoption', 'Died', 'Euthanasia', 'Return_to_owner', 'Transfer']\n",
    "results_form['ID'] = test['ID']\n",
    "cols = results_form.columns.tolist()\n",
    "cols = cols[-1:] + cols[:-1]\n",
    "results_form = results_form[cols]\n",
    "results_form.head()\n",
    "results_form.to_csv('results_GS_ada_drop.csv', index=False)\n",
    "\n",
    "#Score = 2.60159"
   ]
  },
  {
   "cell_type": "markdown",
   "metadata": {},
   "source": [
    "## GRADIENT BOOSTING"
   ]
  },
  {
   "cell_type": "code",
   "execution_count": 137,
   "metadata": {},
   "outputs": [
    {
     "data": {
      "text/plain": [
       "GradientBoostingClassifier(criterion='friedman_mse', init=None,\n",
       "              learning_rate=0.1, loss='deviance', max_depth=3,\n",
       "              max_features=None, max_leaf_nodes=None,\n",
       "              min_impurity_decrease=0.0, min_impurity_split=None,\n",
       "              min_samples_leaf=1, min_samples_split=2,\n",
       "              min_weight_fraction_leaf=0.0, n_estimators=100,\n",
       "              presort='auto', random_state=0, subsample=1.0, verbose=0,\n",
       "              warm_start=False)"
      ]
     },
     "execution_count": 137,
     "metadata": {},
     "output_type": "execute_result"
    }
   ],
   "source": [
    "from sklearn.ensemble import GradientBoostingClassifier\n",
    "\n",
    "\n",
    "clf_GB = GradientBoostingClassifier(random_state=0)\n",
    "clf_GB.fit(train_features, train_outcomes)"
   ]
  },
  {
   "cell_type": "code",
   "execution_count": 138,
   "metadata": {},
   "outputs": [
    {
     "data": {
      "text/html": [
       "<div>\n",
       "<style scoped>\n",
       "    .dataframe tbody tr th:only-of-type {\n",
       "        vertical-align: middle;\n",
       "    }\n",
       "\n",
       "    .dataframe tbody tr th {\n",
       "        vertical-align: top;\n",
       "    }\n",
       "\n",
       "    .dataframe thead th {\n",
       "        text-align: right;\n",
       "    }\n",
       "</style>\n",
       "<table border=\"1\" class=\"dataframe\">\n",
       "  <thead>\n",
       "    <tr style=\"text-align: right;\">\n",
       "      <th></th>\n",
       "      <th>ID</th>\n",
       "      <th>Adoption</th>\n",
       "      <th>Died</th>\n",
       "      <th>Euthanasia</th>\n",
       "      <th>Return_to_owner</th>\n",
       "      <th>Transfer</th>\n",
       "    </tr>\n",
       "  </thead>\n",
       "  <tbody>\n",
       "    <tr>\n",
       "      <th>0</th>\n",
       "      <td>1</td>\n",
       "      <td>0.227781</td>\n",
       "      <td>0.034217</td>\n",
       "      <td>0.072400</td>\n",
       "      <td>0.661206</td>\n",
       "      <td>0.004395</td>\n",
       "    </tr>\n",
       "    <tr>\n",
       "      <th>1</th>\n",
       "      <td>2</td>\n",
       "      <td>0.292754</td>\n",
       "      <td>0.027811</td>\n",
       "      <td>0.518445</td>\n",
       "      <td>0.159175</td>\n",
       "      <td>0.001815</td>\n",
       "    </tr>\n",
       "    <tr>\n",
       "      <th>2</th>\n",
       "      <td>3</td>\n",
       "      <td>0.120727</td>\n",
       "      <td>0.018788</td>\n",
       "      <td>0.470676</td>\n",
       "      <td>0.386869</td>\n",
       "      <td>0.002939</td>\n",
       "    </tr>\n",
       "    <tr>\n",
       "      <th>3</th>\n",
       "      <td>4</td>\n",
       "      <td>0.204308</td>\n",
       "      <td>0.030292</td>\n",
       "      <td>0.088788</td>\n",
       "      <td>0.672073</td>\n",
       "      <td>0.004538</td>\n",
       "    </tr>\n",
       "    <tr>\n",
       "      <th>4</th>\n",
       "      <td>5</td>\n",
       "      <td>0.351701</td>\n",
       "      <td>0.038041</td>\n",
       "      <td>0.418386</td>\n",
       "      <td>0.189907</td>\n",
       "      <td>0.001964</td>\n",
       "    </tr>\n",
       "  </tbody>\n",
       "</table>\n",
       "</div>"
      ],
      "text/plain": [
       "   ID  Adoption      Died  Euthanasia  Return_to_owner  Transfer\n",
       "0   1  0.227781  0.034217    0.072400         0.661206  0.004395\n",
       "1   2  0.292754  0.027811    0.518445         0.159175  0.001815\n",
       "2   3  0.120727  0.018788    0.470676         0.386869  0.002939\n",
       "3   4  0.204308  0.030292    0.088788         0.672073  0.004538\n",
       "4   5  0.351701  0.038041    0.418386         0.189907  0.001964"
      ]
     },
     "execution_count": 138,
     "metadata": {},
     "output_type": "execute_result"
    }
   ],
   "source": [
    "results = clf_GB.predict_proba(test_features)\n",
    "results_form = pd.DataFrame(results)\n",
    "results_form.columns = ['Adoption', 'Died', 'Euthanasia', 'Return_to_owner', 'Transfer']\n",
    "results_form['ID'] = test['ID']\n",
    "cols = results_form.columns.tolist()\n",
    "cols = cols[-1:] + cols[:-1]\n",
    "results_form = results_form[cols]\n",
    "results_form.head()"
   ]
  },
  {
   "cell_type": "code",
   "execution_count": 139,
   "metadata": {},
   "outputs": [],
   "source": [
    "results_form.to_csv('results_GB.csv', index=False)\n",
    "\n",
    "#Score = 3.32590"
   ]
  },
  {
   "cell_type": "markdown",
   "metadata": {},
   "source": [
    "## GB W/ DROPPED FEATURES"
   ]
  },
  {
   "cell_type": "code",
   "execution_count": 140,
   "metadata": {},
   "outputs": [
    {
     "name": "stdout",
     "output_type": "stream",
     "text": [
      "[0.54664735 0.10489702 0.06733909 0.0754012  0.0494163  0.04381693\n",
      " 0.04420864 0.03469931 0.03357415]\n"
     ]
    }
   ],
   "source": [
    "print(clf_GB.feature_importances_)"
   ]
  },
  {
   "cell_type": "code",
   "execution_count": 109,
   "metadata": {},
   "outputs": [
    {
     "data": {
      "text/html": [
       "<div>\n",
       "<style scoped>\n",
       "    .dataframe tbody tr th:only-of-type {\n",
       "        vertical-align: middle;\n",
       "    }\n",
       "\n",
       "    .dataframe tbody tr th {\n",
       "        vertical-align: top;\n",
       "    }\n",
       "\n",
       "    .dataframe thead th {\n",
       "        text-align: right;\n",
       "    }\n",
       "</style>\n",
       "<table border=\"1\" class=\"dataframe\">\n",
       "  <thead>\n",
       "    <tr style=\"text-align: right;\">\n",
       "      <th></th>\n",
       "      <th>AgeinYears</th>\n",
       "      <th>HasName</th>\n",
       "    </tr>\n",
       "  </thead>\n",
       "  <tbody>\n",
       "    <tr>\n",
       "      <th>0</th>\n",
       "      <td>0.833333</td>\n",
       "      <td>1</td>\n",
       "    </tr>\n",
       "    <tr>\n",
       "      <th>1</th>\n",
       "      <td>2.000000</td>\n",
       "      <td>1</td>\n",
       "    </tr>\n",
       "    <tr>\n",
       "      <th>2</th>\n",
       "      <td>1.000000</td>\n",
       "      <td>1</td>\n",
       "    </tr>\n",
       "    <tr>\n",
       "      <th>3</th>\n",
       "      <td>0.333333</td>\n",
       "      <td>1</td>\n",
       "    </tr>\n",
       "    <tr>\n",
       "      <th>4</th>\n",
       "      <td>2.000000</td>\n",
       "      <td>1</td>\n",
       "    </tr>\n",
       "  </tbody>\n",
       "</table>\n",
       "</div>"
      ],
      "text/plain": [
       "   AgeinYears  HasName\n",
       "0    0.833333        1\n",
       "1    2.000000        1\n",
       "2    1.000000        1\n",
       "3    0.333333        1\n",
       "4    2.000000        1"
      ]
     },
     "execution_count": 109,
     "metadata": {},
     "output_type": "execute_result"
    }
   ],
   "source": [
    "train_features_mod = train_features[['AgeinYears', 'HasName']].copy()\n",
    "train_features_mod.head()\n",
    "test_features_mod = test_features[['AgeinYears', 'HasName']].copy()\n",
    "test_features_mod.head()"
   ]
  },
  {
   "cell_type": "code",
   "execution_count": 110,
   "metadata": {},
   "outputs": [],
   "source": [
    "clf_GB_drop = clf_GB\n",
    "clf_GB_drop.fit(train_features_mod, train_outcomes)\n",
    "results = clf_GB_drop.predict_proba(test_features_mod)\n",
    "results_form = pd.DataFrame(results)\n",
    "results_form.columns = ['Adoption', 'Died', 'Euthanasia', 'Return_to_owner', 'Transfer']\n",
    "results_form['ID'] = test['ID']\n",
    "cols = results_form.columns.tolist()\n",
    "cols = cols[-1:] + cols[:-1]\n",
    "results_form = results_form[cols]\n",
    "results_form.head()\n",
    "results_form.to_csv('results_GB_drop.csv', index=False)\n",
    "\n",
    "#Score = 3.16212"
   ]
  },
  {
   "cell_type": "markdown",
   "metadata": {},
   "source": [
    "## GB GS"
   ]
  },
  {
   "cell_type": "code",
   "execution_count": 74,
   "metadata": {},
   "outputs": [
    {
     "data": {
      "text/plain": [
       "GridSearchCV(cv=None, error_score='raise',\n",
       "       estimator=GradientBoostingClassifier(criterion='friedman_mse', init=None,\n",
       "              learning_rate=0.1, loss='deviance', max_depth=3,\n",
       "              max_features=None, max_leaf_nodes=None,\n",
       "              min_impurity_decrease=0.0, min_impurity_split=None,\n",
       "              min_samples_leaf=1, min_samples_split=2,\n",
       "              min_weight_fraction_leaf=0.0, n_estimators=100,\n",
       "              presort='auto', random_state=0, subsample=1.0, verbose=0,\n",
       "              warm_start=False),\n",
       "       fit_params={}, iid=True, n_jobs=1,\n",
       "       param_grid=[{'n_estimators': [50, 100], 'max_depth': [75, 85], 'min_samples_split': [2], 'min_samples_leaf': [100, 200], 'subsample': [0.75], 'max_features': [9], 'max_leaf_nodes': [100]}],\n",
       "       pre_dispatch='2*n_jobs', refit=True, scoring='neg_log_loss',\n",
       "       verbose=0)"
      ]
     },
     "execution_count": 74,
     "metadata": {},
     "output_type": "execute_result"
    }
   ],
   "source": [
    "#Define parameter matrix\n",
    "param_matrix = [\n",
    "    {'n_estimators': [50,100], 'max_depth': [75,85], 'min_samples_split': [2], 'min_samples_leaf': [100,200], 'subsample': [0.75],'max_features':[9], 'max_leaf_nodes':[100]}]\n",
    "     \n",
    "     \n",
    "clf_GS_GB = GridSearchCV(estimator = GradientBoostingClassifier(random_state=0), param_grid = param_matrix, scoring='neg_log_loss')\n",
    "clf_GS_GB.fit(train_features, train_outcomes)"
   ]
  },
  {
   "cell_type": "code",
   "execution_count": 75,
   "metadata": {},
   "outputs": [
    {
     "name": "stdout",
     "output_type": "stream",
     "text": [
      "GradientBoostingClassifier(criterion='friedman_mse', init=None,\n",
      "              learning_rate=0.1, loss='deviance', max_depth=75,\n",
      "              max_features=9, max_leaf_nodes=100,\n",
      "              min_impurity_decrease=0.0, min_impurity_split=None,\n",
      "              min_samples_leaf=200, min_samples_split=2,\n",
      "              min_weight_fraction_leaf=0.0, n_estimators=50,\n",
      "              presort='auto', random_state=0, subsample=0.75, verbose=0,\n",
      "              warm_start=False)\n"
     ]
    }
   ],
   "source": [
    "print(clf_GS_GB.best_estimator_)"
   ]
  },
  {
   "cell_type": "code",
   "execution_count": 76,
   "metadata": {},
   "outputs": [
    {
     "data": {
      "text/html": [
       "<div>\n",
       "<style scoped>\n",
       "    .dataframe tbody tr th:only-of-type {\n",
       "        vertical-align: middle;\n",
       "    }\n",
       "\n",
       "    .dataframe tbody tr th {\n",
       "        vertical-align: top;\n",
       "    }\n",
       "\n",
       "    .dataframe thead th {\n",
       "        text-align: right;\n",
       "    }\n",
       "</style>\n",
       "<table border=\"1\" class=\"dataframe\">\n",
       "  <thead>\n",
       "    <tr style=\"text-align: right;\">\n",
       "      <th></th>\n",
       "      <th>ID</th>\n",
       "      <th>Adoption</th>\n",
       "      <th>Died</th>\n",
       "      <th>Euthanasia</th>\n",
       "      <th>Return_to_owner</th>\n",
       "      <th>Transfer</th>\n",
       "    </tr>\n",
       "  </thead>\n",
       "  <tbody>\n",
       "    <tr>\n",
       "      <th>0</th>\n",
       "      <td>1</td>\n",
       "      <td>0.198021</td>\n",
       "      <td>0.054892</td>\n",
       "      <td>0.057289</td>\n",
       "      <td>0.685734</td>\n",
       "      <td>0.004064</td>\n",
       "    </tr>\n",
       "    <tr>\n",
       "      <th>1</th>\n",
       "      <td>2</td>\n",
       "      <td>0.284874</td>\n",
       "      <td>0.029332</td>\n",
       "      <td>0.523115</td>\n",
       "      <td>0.158471</td>\n",
       "      <td>0.004207</td>\n",
       "    </tr>\n",
       "    <tr>\n",
       "      <th>2</th>\n",
       "      <td>3</td>\n",
       "      <td>0.114746</td>\n",
       "      <td>0.013663</td>\n",
       "      <td>0.439146</td>\n",
       "      <td>0.429818</td>\n",
       "      <td>0.002627</td>\n",
       "    </tr>\n",
       "    <tr>\n",
       "      <th>3</th>\n",
       "      <td>4</td>\n",
       "      <td>0.207607</td>\n",
       "      <td>0.038709</td>\n",
       "      <td>0.092312</td>\n",
       "      <td>0.656714</td>\n",
       "      <td>0.004658</td>\n",
       "    </tr>\n",
       "    <tr>\n",
       "      <th>4</th>\n",
       "      <td>5</td>\n",
       "      <td>0.338419</td>\n",
       "      <td>0.041918</td>\n",
       "      <td>0.427508</td>\n",
       "      <td>0.188060</td>\n",
       "      <td>0.004095</td>\n",
       "    </tr>\n",
       "  </tbody>\n",
       "</table>\n",
       "</div>"
      ],
      "text/plain": [
       "   ID  Adoption      Died  Euthanasia  Return_to_owner  Transfer\n",
       "0   1  0.198021  0.054892    0.057289         0.685734  0.004064\n",
       "1   2  0.284874  0.029332    0.523115         0.158471  0.004207\n",
       "2   3  0.114746  0.013663    0.439146         0.429818  0.002627\n",
       "3   4  0.207607  0.038709    0.092312         0.656714  0.004658\n",
       "4   5  0.338419  0.041918    0.427508         0.188060  0.004095"
      ]
     },
     "execution_count": 76,
     "metadata": {},
     "output_type": "execute_result"
    }
   ],
   "source": [
    "results = clf_GS_GB.predict_proba(test_features)\n",
    "results_form = pd.DataFrame(results)\n",
    "results_form.columns = ['Adoption', 'Died', 'Euthanasia', 'Return_to_owner', 'Transfer']\n",
    "results_form['ID'] = test['ID']\n",
    "cols = results_form.columns.tolist()\n",
    "cols = cols[-1:] + cols[:-1]\n",
    "results_form = results_form[cols]\n",
    "results_form.head()"
   ]
  },
  {
   "cell_type": "code",
   "execution_count": 77,
   "metadata": {},
   "outputs": [],
   "source": [
    "results_form.to_csv('results_GS_GB.csv', index=False)\n",
    "\n",
    "#Score = 3.25721"
   ]
  },
  {
   "cell_type": "markdown",
   "metadata": {},
   "source": [
    "## GB GS w/ DROPPED"
   ]
  },
  {
   "cell_type": "code",
   "execution_count": 78,
   "metadata": {},
   "outputs": [
    {
     "data": {
      "text/plain": [
       "GridSearchCV(cv=None, error_score='raise',\n",
       "       estimator=GradientBoostingClassifier(criterion='friedman_mse', init=None,\n",
       "              learning_rate=0.1, loss='deviance', max_depth=3,\n",
       "              max_features=None, max_leaf_nodes=None,\n",
       "              min_impurity_decrease=0.0, min_impurity_split=None,\n",
       "              min_samples_leaf=1, min_samples_split=2,\n",
       "              min_weight_fraction_leaf=0.0, n_estimators=100,\n",
       "              presort='auto', random_state=0, subsample=1.0, verbose=0,\n",
       "              warm_start=False),\n",
       "       fit_params={}, iid=True, n_jobs=1,\n",
       "       param_grid=[{'n_estimators': [50, 100], 'max_depth': [75, 85], 'min_samples_split': [2], 'min_samples_leaf': [100, 200], 'subsample': [0.75], 'max_features': [2], 'max_leaf_nodes': [100]}],\n",
       "       pre_dispatch='2*n_jobs', refit=True, scoring='neg_log_loss',\n",
       "       verbose=0)"
      ]
     },
     "execution_count": 78,
     "metadata": {},
     "output_type": "execute_result"
    }
   ],
   "source": [
    "#Define parameter matrix\n",
    "param_matrix = [\n",
    "    {'n_estimators': [50,100], 'max_depth': [75,85], 'min_samples_split': [2], 'min_samples_leaf': [100,200], 'subsample': [0.75],'max_features':[2], 'max_leaf_nodes':[100]}]\n",
    "     \n",
    "     \n",
    "clf_GS_GB_drop = GridSearchCV(estimator = GradientBoostingClassifier(random_state=0), param_grid = param_matrix, scoring='neg_log_loss')\n",
    "clf_GS_GB_drop.fit(train_features_mod, train_outcomes)"
   ]
  },
  {
   "cell_type": "code",
   "execution_count": 79,
   "metadata": {},
   "outputs": [],
   "source": [
    "results = clf_GS_GB_drop.predict_proba(test_features_mod)\n",
    "results_form = pd.DataFrame(results)\n",
    "results_form.columns = ['Adoption', 'Died', 'Euthanasia', 'Return_to_owner', 'Transfer']\n",
    "results_form['ID'] = test['ID']\n",
    "cols = results_form.columns.tolist()\n",
    "cols = cols[-1:] + cols[:-1]\n",
    "results_form = results_form[cols]\n",
    "results_form.head()\n",
    "results_form.to_csv('results_GS_GB_drop.csv', index=False)\n",
    "\n",
    "#Score = 3.03811"
   ]
  },
  {
   "cell_type": "markdown",
   "metadata": {},
   "source": [
    "## FEATURE IMPORTANCES"
   ]
  },
  {
   "cell_type": "code",
   "execution_count": 151,
   "metadata": {},
   "outputs": [],
   "source": [
    "RFC_features = clf_RFC.feature_importances_\n",
    "RFC_GS_features = clf_GS_RFC.best_estimator_.feature_importances_\n",
    "ADA_features = ada_clf.feature_importances_\n",
    "ADA_GS_features = clf_GS_ada.best_estimator_.feature_importances_\n",
    "GB_features = clf_GB.feature_importances_\n",
    "GB_GS_features = clf_GS_GB.best_estimator_.feature_importances_"
   ]
  },
  {
   "cell_type": "code",
   "execution_count": 163,
   "metadata": {},
   "outputs": [
    {
     "data": {
      "text/plain": [
       "([<matplotlib.axis.XTick at 0x18ee7358>,\n",
       "  <matplotlib.axis.XTick at 0x18d52438>,\n",
       "  <matplotlib.axis.XTick at 0x18ecccc0>,\n",
       "  <matplotlib.axis.XTick at 0x18f15a20>,\n",
       "  <matplotlib.axis.XTick at 0x18f1f0f0>,\n",
       "  <matplotlib.axis.XTick at 0x18f1f780>,\n",
       "  <matplotlib.axis.XTick at 0x18f1fe10>,\n",
       "  <matplotlib.axis.XTick at 0x18f244e0>,\n",
       "  <matplotlib.axis.XTick at 0x18f24b70>],\n",
       " <a list of 9 Text xticklabel objects>)"
      ]
     },
     "execution_count": 163,
     "metadata": {},
     "output_type": "execute_result"
    },
    {
     "data": {
      "image/png": "[encoded data removed]",
      "text/plain": [
       "<matplotlib.figure.Figure at 0x18e5ea20>"
      ]
     },
     "metadata": {},
     "output_type": "display_data"
    }
   ],
   "source": [
    "#technique based on https://chrisalbon.com/machine_learning/trees_and_forests/feature_importance/\n",
    "\n",
    "indices = ['AgeinYears', 'HasName', 'AnimalType_Cat', 'AnimalType_Dog', 'SexuponOutcome_Intact Female', 'SexuponOutcome_Intact Male', 'SexuponOutcome_Neutered Male', 'SexuponOutcome_Neutered Female', 'SexuponOutcome_Unknown']\n",
    "'''\n",
    "plt.figure(1)\n",
    "plt.title(\"Random Forest - Feature Importance\")\n",
    "plt.bar(range(train_features.shape[1]), RFC_features)\n",
    "plt.xticks(range(train_features.shape[1]), indices, rotation=90)\n",
    "\n",
    "plt.figure(2)\n",
    "plt.title(\"Random Forest w/ GS - Feature Importance\")\n",
    "plt.bar(range(train_features.shape[1]), RFC_GS_features)\n",
    "plt.xticks(range(train_features.shape[1]), indices, rotation=90)\n",
    "\n",
    "plt.figure(3)\n",
    "plt.title(\"Adaboost - Feature Importance\")\n",
    "plt.bar(range(train_features.shape[1]), ADA_features)\n",
    "plt.xticks(range(train_features.shape[1]), indices, rotation=90)\n",
    "\n",
    "plt.figure(4)\n",
    "plt.title(\"Adaboost w/ GS - Feature Importance\")\n",
    "plt.bar(range(train_features.shape[1]), ADA_GS_features)\n",
    "plt.xticks(range(train_features.shape[1]), indices, rotation=90)\n",
    "\n",
    "plt.figure(5)\n",
    "plt.title(\"Gradient Boosting - Feature Importance\")\n",
    "plt.bar(range(train_features.shape[1]), GB_features)\n",
    "plt.xticks(range(train_features.shape[1]), indices, rotation=90)\n",
    "'''\n",
    "plt.figure(6)\n",
    "plt.title(\"Gradient Boosting w/ GS - Feature Importance\")\n",
    "plt.bar(range(train_features.shape[1]), GB_GS_features)\n",
    "plt.xticks(range(train_features.shape[1]), indices, rotation=90)"
   ]
  },
  {
   "cell_type": "code",
   "execution_count": null,
   "metadata": {},
   "outputs": [],
   "source": []
  }
 ],
 "metadata": {
  "kernelspec": {
   "display_name": "Python 3",
   "language": "python",
   "name": "python3"
  },
  "language_info": {
   "codemirror_mode": {
    "name": "ipython",
    "version": 3
   },
   "file_extension": ".py",
   "mimetype": "text/x-python",
   "name": "python",
   "nbconvert_exporter": "python",
   "pygments_lexer": "ipython3",
   "version": "3.6.4"
  }
 },
 "nbformat": 4,
 "nbformat_minor": 2
}
